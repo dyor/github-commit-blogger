{
 "cells": [
  {
   "cell_type": "code",
   "execution_count": 90,
   "metadata": {},
   "outputs": [
    {
     "name": "stdout",
     "output_type": "stream",
     "text": [
      "zsh:1: command not found: pip\n"
     ]
    }
   ],
   "source": [
    "# first run installations and data download\n",
    "! pip install -U llama-index llama-index-vector-stores-milvus pymilvus llama-index-llms-openai llama-index-readers-file\n",
    "! mkdir -p './storage/commits'\n"
   ]
  },
  {
   "cell_type": "code",
   "execution_count": 91,
   "metadata": {},
   "outputs": [],
   "source": [
    "from llama_index.core import (\n",
    "    SimpleDirectoryReader,\n",
    "    VectorStoreIndex,\n",
    "    StorageContext,\n",
    "    load_index_from_storage,\n",
    ")\n",
    "from llama_index.core.tools import QueryEngineTool, ToolMetadata\n",
    "\n",
    "from pymilvus import connections\n",
    "from llama_index.vector_stores.milvus import MilvusVectorStore"
   ]
  },
  {
   "cell_type": "code",
   "execution_count": 92,
   "metadata": {},
   "outputs": [],
   "source": [
    "try:\n",
    "    storage_context = StorageContext.from_defaults(\n",
    "        persist_dir=\"./storage/commits\"\n",
    "    )\n",
    "    commit_index = load_index_from_storage(storage_context)\n",
    "\n",
    "    index_loaded = True\n",
    "except:\n",
    "    index_loaded = False"
   ]
  },
  {
   "cell_type": "code",
   "execution_count": 93,
   "metadata": {},
   "outputs": [
    {
     "data": {
      "text/plain": [
       "True"
      ]
     },
     "execution_count": 93,
     "metadata": {},
     "output_type": "execute_result"
    }
   ],
   "source": [
    "from dotenv import load_dotenv\n",
    "import os\n",
    "load_dotenv()"
   ]
  },
  {
   "cell_type": "markdown",
   "metadata": {},
   "source": [
    "# Build the Milvus Index from a Git Patch\n",
    "1. To generate a patch, in terminal type _git format-patch -1_\n",
    "2. Ingest the patch into Milvus"
   ]
  },
  {
   "cell_type": "code",
   "execution_count": 94,
   "metadata": {},
   "outputs": [],
   "source": [
    "if not index_loaded:\n",
    "    # load data\n",
    "    commit_docs = SimpleDirectoryReader(\n",
    "        input_files=[\"./0001-adding-a-better-calculator.patch\"]\n",
    "    ).load_data()\n",
    "\n",
    "    # build index\n",
    "    vector_store_commit = MilvusVectorStore(dim=1536, collection_name=\"commit\", overwrite=True)\n",
    "    \n",
    "    storage_context_commit = StorageContext.from_defaults(vector_store=vector_store_commit)\n",
    "    commit_index = VectorStoreIndex.from_documents(commit_docs, storage_context=storage_context_commit)\n",
    "\n",
    "\n",
    "    # persist index\n",
    "    commit_index.storage_context.persist(persist_dir=\"./storage/commit\")\n",
    "\n",
    "commit_engine = commit_index.as_query_engine(similarity_top_k=3)"
   ]
  },
  {
   "cell_type": "markdown",
   "metadata": {},
   "source": [
    "# Using Llama Index build a summary of the Commit"
   ]
  },
  {
   "cell_type": "code",
   "execution_count": 96,
   "metadata": {},
   "outputs": [],
   "source": [
    "query_engine_tools = [\n",
    "    QueryEngineTool(\n",
    "        query_engine=commit_engine,\n",
    "        metadata=ToolMetadata(\n",
    "            name=\"commit_summary\",\n",
    "            description=(\n",
    "                \"Provides summary information about a commit patch.  \"\n",
    "                # \"Need to manually run 'git format-patch -1 to generate the patch file.\"\n",
    "            ),\n",
    "        ),\n",
    "    ),\n",
    "]"
   ]
  },
  {
   "cell_type": "code",
   "execution_count": 97,
   "metadata": {},
   "outputs": [],
   "source": [
    "from llama_index.core.agent import ReActAgent\n",
    "from llama_index.llms.openai import OpenAI"
   ]
  },
  {
   "cell_type": "code",
   "execution_count": 98,
   "metadata": {},
   "outputs": [],
   "source": [
    "llm = OpenAI(model=\"gpt-3.5-turbo-0613\")\n",
    "\n",
    "agent = ReActAgent.from_tools(\n",
    "    query_engine_tools,\n",
    "    llm=llm,\n",
    "    verbose=True,\n",
    "    # context=context\n",
    ")"
   ]
  },
  {
   "cell_type": "markdown",
   "metadata": {},
   "source": [
    "# Create 3 Llama Index Agents - Title, Summary, Body"
   ]
  },
  {
   "cell_type": "code",
   "execution_count": 99,
   "metadata": {},
   "outputs": [
    {
     "name": "stdout",
     "output_type": "stream",
     "text": [
      "\u001b[1;3;38;5;200mThought: I need to use a tool to help me answer the question.\n",
      "Action: commit_summary\n",
      "Action Input: {'input': 'describe the changes in this patch'}\n",
      "\u001b[0m\u001b[1;3;34mObservation: The changes in this patch include the addition of a new Jupyter notebook file named \"better_calculator_agent.ipynb\" with 212 insertions. This notebook contains code cells that define functions for mathematical operations like multiplication, addition, and squaring. Additionally, it imports necessary modules and tools for these operations. The patch also updates the model used in the OpenAI instance to \"gpt-4\" and creates an agent with tools for multiplication, addition, and squaring operations. The notebook demonstrates step-by-step calculations for various mathematical expressions using these tools.\n",
      "\u001b[0m\u001b[1;3;38;5;200mThought: I can answer without using any more tools.\n",
      "Answer: The changes in this patch include the addition of a new Jupyter notebook file named \"better_calculator_agent.ipynb\" with 212 insertions. This notebook contains code cells that define functions for mathematical operations like multiplication, addition, and squaring. Additionally, it imports necessary modules and tools for these operations. The patch also updates the model used in the OpenAI instance to \"gpt-4\" and creates an agent with tools for multiplication, addition, and squaring operations. The notebook demonstrates step-by-step calculations for various mathematical expressions using these tools.\n",
      "\u001b[0mThe changes in this patch include the addition of a new Jupyter notebook file named \"better_calculator_agent.ipynb\" with 212 insertions. This notebook contains code cells that define functions for mathematical operations like multiplication, addition, and squaring. Additionally, it imports necessary modules and tools for these operations. The patch also updates the model used in the OpenAI instance to \"gpt-4\" and creates an agent with tools for multiplication, addition, and squaring operations. The notebook demonstrates step-by-step calculations for various mathematical expressions using these tools.\n"
     ]
    }
   ],
   "source": [
    "agent1_response = agent.chat(\"Describe in great detail what changes were made in this patch?\")\n",
    "print(str(agent1_response))"
   ]
  },
  {
   "cell_type": "code",
   "execution_count": 100,
   "metadata": {},
   "outputs": [],
   "source": [
    "from llama_index.core.agent import ReActAgent\n",
    "from llama_index.llms.openai import OpenAI\n",
    "from llama_index.core.tools import FunctionTool"
   ]
  },
  {
   "cell_type": "code",
   "execution_count": null,
   "metadata": {},
   "outputs": [],
   "source": []
  },
  {
   "cell_type": "code",
   "execution_count": 127,
   "metadata": {},
   "outputs": [
    {
     "name": "stdout",
     "output_type": "stream",
     "text": [
      "\u001b[1;3;38;5;200mThought: I need to use a tool to help me generate a blog title based on the provided commit body.\n",
      "Action: set_title\n",
      "Action Input: {'commit_body': \"The changes in this patch include the addition of a new Jupyter notebook file named 'better_calculator_agent.ipynb' with 212 insertions. This notebook contains code cells that define functions for mathematical operations like multiplication, addition, and squaring. Additionally, it imports necessary modules and tools for these operations. The patch also updates the model used in the OpenAI instance to 'gpt-4' and creates an agent with tools for multiplication, addition, and squaring operations. The notebook demonstrates step-by-step calculations for various mathematical expressions using these tools.\"}\n",
      "\u001b[0m\u001b[1;3;34mObservation: generate a blog title of 10 words or less for the following code changes : The changes in this patch include the addition of a new Jupyter notebook file named 'better_calculator_agent.ipynb' with 212 insertions. This notebook contains code cells that define functions for mathematical operations like multiplication, addition, and squaring. Additionally, it imports necessary modules and tools for these operations. The patch also updates the model used in the OpenAI instance to 'gpt-4' and creates an agent with tools for multiplication, addition, and squaring operations. The notebook demonstrates step-by-step calculations for various mathematical expressions using these tools.\n",
      "\u001b[0m\u001b[1;3;38;5;200mThought: I can answer without using any more tools.\n",
      "Answer: \"Introducing Better Calculator Agent: GPT-4 Powered Math Operations Guide\"\n",
      "\u001b[0m\"Introducing Better Calculator Agent: GPT-4 Powered Math Operations Guide\"\n"
     ]
    }
   ],
   "source": [
    "def set_title(commit_body) -> str:\n",
    "    \"\"\"Takes in a commit body and returns a recommended blog title\"\"\"\n",
    "    #submit commit_body to OpenAI's GPT-3.5 API\n",
    "    openai = OpenAI()\n",
    "    # generate a title from the commit body using open ai\n",
    "    response = openai.completion_to_prompt(\"generate a blog title of 10 words or less for the following code changes : \" + commit_body)\n",
    "    return response\n",
    "\n",
    "\n",
    "title_tool = FunctionTool.from_defaults(fn=set_title)\n",
    "title_agent = ReActAgent.from_tools([title_tool], llm=llm, verbose=True)\n",
    "response_gen = title_agent.chat(str(agent1_response))\n",
    "print(str(response_gen))"
   ]
  },
  {
   "cell_type": "code",
   "execution_count": 130,
   "metadata": {},
   "outputs": [
    {
     "name": "stdout",
     "output_type": "stream",
     "text": [
      "\u001b[1;3;38;5;200mThought: I need to generate a commit summary for the changes described in the patch.\n",
      "Action: set_summary\n",
      "Action Input: {'commit_body': \"The changes in this patch include the addition of a new Jupyter notebook file named 'better_calculator_agent.ipynb' with 212 insertions. This notebook contains code cells that define functions for mathematical operations like multiplication, addition, and squaring. Additionally, it imports necessary modules and tools for these operations. The patch also updates the model used in the OpenAI instance to 'gpt-4' and creates an agent with tools for multiplication, addition, and squaring operations. The notebook demonstrates step-by-step calculations for various mathematical expressions using these tools.\"}\n",
      "\u001b[0m\u001b[1;3;34mObservation: Generate a brief summary. The summary shiould be 20 words.  The changes in this patch include the addition of a new Jupyter notebook file named 'better_calculator_agent.ipynb' with 212 insertions. This notebook contains code cells that define functions for mathematical operations like multiplication, addition, and squaring. Additionally, it imports necessary modules and tools for these operations. The patch also updates the model used in the OpenAI instance to 'gpt-4' and creates an agent with tools for multiplication, addition, and squaring operations. The notebook demonstrates step-by-step calculations for various mathematical expressions using these tools.\n",
      "\u001b[0m\u001b[1;3;38;5;200mThought: I can answer without using any more tools.\n",
      "Answer: The patch adds 'better_calculator_agent.ipynb' with math functions, updates model to 'gpt-4', and demonstrates calculations.\n",
      "\u001b[0m"
     ]
    }
   ],
   "source": [
    "def set_summary(commit_body) -> str:\n",
    "    \"\"\"Takes in a commit body and returns a recommended commit summary\"\"\"\n",
    "    #submit commit_body to OpenAI's GPT-3.5 API\n",
    "    openai = OpenAI()\n",
    "    # generate a title from the commit body using open ai\n",
    "    response = openai.set_completion_to_prompt(\"Generate a brief summary. The summary shiould be 20 words.  \" + commit_body)\n",
    "    return response\n",
    "\n",
    "\n",
    "summary_tool = FunctionTool.from_defaults(fn=set_summary)\n",
    "summary_agent = ReActAgent.from_tools([summary_tool], llm=llm, verbose=True)\n",
    "response_summary = summary_agent.chat(str(agent1_response))"
   ]
  },
  {
   "cell_type": "code",
   "execution_count": 132,
   "metadata": {},
   "outputs": [
    {
     "name": "stdout",
     "output_type": "stream",
     "text": [
      "\u001b[1;3;38;5;200mThought: I need to use a tool to help me summarize the changes in the patch.\n",
      "Action: set_body\n",
      "Action Input: {'commit_body': \"The changes in this patch include the addition of a new Jupyter notebook file named 'better_calculator_agent.ipynb' with 212 insertions. This notebook contains code cells that define functions for mathematical operations like multiplication, addition, and squaring. Additionally, it imports necessary modules and tools for these operations. The patch also updates the model used in the OpenAI instance to 'gpt-4' and creates an agent with tools for multiplication, addition, and squaring operations. The notebook demonstrates step-by-step calculations for various mathematical expressions using these tools.\"}\n",
      "\u001b[0m\u001b[1;3;34mObservation: Generate a detailed blog post about the changes described in this commit. The summary must be written in a markdown and should be between 1000 to 2000 words. Include at least 2 Heading 2 headings.  The changes in this patch include the addition of a new Jupyter notebook file named 'better_calculator_agent.ipynb' with 212 insertions. This notebook contains code cells that define functions for mathematical operations like multiplication, addition, and squaring. Additionally, it imports necessary modules and tools for these operations. The patch also updates the model used in the OpenAI instance to 'gpt-4' and creates an agent with tools for multiplication, addition, and squaring operations. The notebook demonstrates step-by-step calculations for various mathematical expressions using these tools.\n",
      "\u001b[0m\u001b[1;3;38;5;200mThought: I can answer without using any more tools.\n",
      "Answer: ## Blog Post Summary\n",
      "\n",
      "### Introduction\n",
      "In this commit, significant changes were made to enhance the functionality of the project. The key additions include a new Jupyter notebook file named 'better_calculator_agent.ipynb' with 212 insertions. This notebook serves as a platform for defining functions for mathematical operations such as multiplication, addition, and squaring. Moreover, it incorporates essential modules and tools to support these operations effectively.\n",
      "\n",
      "### Updated Model and Agent Creation\n",
      "One of the major updates in this patch is the transition to using the 'gpt-4' model in the OpenAI instance. This model upgrade brings advanced capabilities and improved performance to the project. Additionally, a new agent was created with specialized tools for handling multiplication, addition, and squaring operations. These tools are designed to streamline the mathematical computation process and enhance overall efficiency.\n",
      "\n",
      "### Functionality Demonstration\n",
      "The 'better_calculator_agent.ipynb' notebook serves as a comprehensive guide for users, showcasing step-by-step calculations for various mathematical expressions. By leveraging the defined functions and imported tools, users can perform complex mathematical operations with ease and accuracy. The notebook's interactive nature allows for a hands-on learning experience, making it a valuable resource for both beginners and experienced users.\n",
      "\n",
      "### Conclusion\n",
      "In conclusion, the latest commit introduces significant enhancements to the project's mathematical capabilities. The addition of the 'better_calculator_agent.ipynb' notebook, updated model to 'gpt-4', and creation of a specialized agent demonstrate a commitment to improving functionality and user experience. With these changes, users can explore a wide range of mathematical operations efficiently and effectively, making the project more versatile and user-friendly.\n",
      "\u001b[0m"
     ]
    }
   ],
   "source": [
    "def set_body(commit_body) -> str:\n",
    "    \"\"\"Takes in a commit body and returns a blog post body describing the commit changes in great detail.\"\"\"\n",
    "    #submit commit_body to OpenAI's GPT-3.5 API\n",
    "    openai = OpenAI()\n",
    "    # generate a title from the commit body using open ai\n",
    "    response = openai.set_completion_to_prompt(\"Generate a detailed blog post about the changes described in this commit. The summary must be written in a markdown and should be between 1000 to 2000 words. Include at least 2 Heading 2 headings.  \" + commit_body)\n",
    "    return response\n",
    "\n",
    "\n",
    "body_tool = FunctionTool.from_defaults(fn=set_body)\n",
    "body_agent = ReActAgent.from_tools([body_tool], llm=llm, verbose=True)\n",
    "response_body = body_agent.chat(str(agent1_response))"
   ]
  },
  {
   "cell_type": "markdown",
   "metadata": {},
   "source": [
    "# Put it all together - Directive Approach"
   ]
  },
  {
   "cell_type": "code",
   "execution_count": 133,
   "metadata": {},
   "outputs": [
    {
     "name": "stdout",
     "output_type": "stream",
     "text": [
      "\u001b[1;3;38;5;200mThought: I need to use a tool to help me answer the question.\n",
      "Action: set_title\n",
      "Action Input: {'commit_body': \"The changes in this patch include the addition of a new Jupyter notebook file named 'better_calculator_agent.ipynb' with 212 insertions. This notebook contains code cells that define functions for mathematical operations like multiplication, addition, and squaring. Additionally, it imports necessary modules and tools for these operations. The patch also updates the model used in the OpenAI instance to 'gpt-4' and creates an agent with tools for multiplication, addition, and squaring operations. The notebook demonstrates step-by-step calculations for various mathematical expressions using these tools.\"}\n",
      "\u001b[0m\u001b[1;3;34mObservation: generate a blog title of 10 words or less for the following code changes : The changes in this patch include the addition of a new Jupyter notebook file named 'better_calculator_agent.ipynb' with 212 insertions. This notebook contains code cells that define functions for mathematical operations like multiplication, addition, and squaring. Additionally, it imports necessary modules and tools for these operations. The patch also updates the model used in the OpenAI instance to 'gpt-4' and creates an agent with tools for multiplication, addition, and squaring operations. The notebook demonstrates step-by-step calculations for various mathematical expressions using these tools.\n",
      "\u001b[0m\u001b[1;3;38;5;200mThought: I can answer without using any more tools.\n",
      "Answer: \"Enhanced Math Operations Guide with GPT-4-Powered Calculator Agent\"\n",
      "\u001b[0m\u001b[1;3;38;5;200mThought: I need to use a tool to help me summarize the provided information.\n",
      "Action: set_summary\n",
      "Action Input: {'commit_body': \"The changes in this patch include the addition of a new Jupyter notebook file named 'better_calculator_agent.ipynb' with 212 insertions. This notebook contains code cells that define functions for mathematical operations like multiplication, addition, and squaring. Additionally, it imports necessary modules and tools for these operations. The patch also updates the model used in the OpenAI instance to 'gpt-4' and creates an agent with tools for multiplication, addition, and squaring operations. The notebook demonstrates step-by-step calculations for various mathematical expressions using these tools.\"}\n",
      "\u001b[0m\u001b[1;3;34mObservation: Generate a brief summary. The summary shiould be 20 words.  The changes in this patch include the addition of a new Jupyter notebook file named 'better_calculator_agent.ipynb' with 212 insertions. This notebook contains code cells that define functions for mathematical operations like multiplication, addition, and squaring. Additionally, it imports necessary modules and tools for these operations. The patch also updates the model used in the OpenAI instance to 'gpt-4' and creates an agent with tools for multiplication, addition, and squaring operations. The notebook demonstrates step-by-step calculations for various mathematical expressions using these tools.\n",
      "\u001b[0m\u001b[1;3;38;5;200mThought: I can answer without using any more tools.\n",
      "Answer: The patch adds 'better_calculator_agent.ipynb' with math functions, updates model to 'gpt-4', and demonstrates calculations.\n",
      "\u001b[0m\u001b[1;3;38;5;200mThought: I can provide a detailed blog post summary based on the information provided.\n",
      "Answer: ## Blog Post Summary\n",
      "\n",
      "### Introduction\n",
      "The recent patch introduces a new Jupyter notebook file, \"better_calculator_agent.ipynb,\" with 212 insertions. This notebook is dedicated to defining functions for mathematical operations such as multiplication, addition, and squaring. It also includes the necessary imports of modules and tools to support these operations effectively.\n",
      "\n",
      "### Model Update and Agent Creation\n",
      "A significant update in this patch is the transition to the \"gpt-4\" model in the OpenAI instance. This model upgrade brings advanced capabilities to the project. Additionally, a new agent is created with specialized tools for multiplication, addition, and squaring operations, enhancing the project's mathematical functionalities.\n",
      "\n",
      "### Functionality Showcase\n",
      "The \"better_calculator_agent.ipynb\" notebook serves as a practical guide, demonstrating step-by-step calculations for various mathematical expressions using the defined functions and imported tools. Users can leverage these tools to perform complex mathematical operations efficiently. The interactive nature of the notebook provides a hands-on learning experience for users of all levels.\n",
      "\n",
      "### Conclusion\n",
      "In conclusion, the latest patch enhances the project's mathematical capabilities significantly. The addition of the new notebook, model update to \"gpt-4,\" and creation of a specialized agent showcase a commitment to improving functionality and user experience. Users can now explore a wide range of mathematical operations with ease and accuracy, making the project more versatile and user-friendly.\n",
      "\u001b[0m"
     ]
    }
   ],
   "source": [
    "# blog_agent = ReActAgent.from_tools([summary_tool, title_tool], llm=llm, verbose=True)\n",
    "\n",
    "def write_blog():\n",
    "    title = title_agent.chat(str(agent1_response))\n",
    "    summary = summary_agent.chat(str(agent1_response))\n",
    "    body = body_agent.chat(str(agent1_response))\n",
    "    \n",
    "    save_note(str(title))\n",
    "    save_note(str(summary))\n",
    "    save_note(str(body))\n",
    "    return title, summary, body\n",
    "\n",
    "title, summary, body = write_blog()"
   ]
  },
  {
   "cell_type": "markdown",
   "metadata": {},
   "source": [
    "# Put it all together - Independent Agent Approach"
   ]
  },
  {
   "cell_type": "code",
   "execution_count": 135,
   "metadata": {},
   "outputs": [
    {
     "name": "stdout",
     "output_type": "stream",
     "text": [
      "\u001b[1;3;38;5;200mThought: I can start by generating a title for the blog post based on the provided commit information.\n",
      "Action: set_title\n",
      "Action Input: {'commit_body': \"The changes in this patch include the addition of a new Jupyter notebook file named 'better_calculator_agent.ipynb' with 212 insertions. This notebook contains code cells that define functions for mathematical operations like multiplication, addition, and squaring. Additionally, it imports necessary modules and tools for these operations. The patch also updates the model used in the OpenAI instance to 'gpt-4' and creates an agent with tools for multiplication, addition, and squaring operations. The notebook demonstrates step-by-step calculations for various mathematical expressions using these tools.\"}\n",
      "\u001b[0m\u001b[1;3;34mObservation: generate a blog title of 10 words or less for the following code changes : The changes in this patch include the addition of a new Jupyter notebook file named 'better_calculator_agent.ipynb' with 212 insertions. This notebook contains code cells that define functions for mathematical operations like multiplication, addition, and squaring. Additionally, it imports necessary modules and tools for these operations. The patch also updates the model used in the OpenAI instance to 'gpt-4' and creates an agent with tools for multiplication, addition, and squaring operations. The notebook demonstrates step-by-step calculations for various mathematical expressions using these tools.\n",
      "\u001b[0m\u001b[1;3;38;5;200mThought: I should now work on generating a summary for the commit changes described.\n",
      "Action: set_summary\n",
      "Action Input: {'commit_body': \"The changes in this patch include the addition of a new Jupyter notebook file named 'better_calculator_agent.ipynb' with 212 insertions. This notebook contains code cells that define functions for mathematical operations like multiplication, addition, and squaring. Additionally, it imports necessary modules and tools for these operations. The patch also updates the model used in the OpenAI instance to 'gpt-4' and creates an agent with tools for multiplication, addition, and squaring operations. The notebook demonstrates step-by-step calculations for various mathematical expressions using these tools.\"}\n",
      "\u001b[0m\u001b[1;3;34mObservation: Generate a brief summary. The summary shiould be 20 words.  The changes in this patch include the addition of a new Jupyter notebook file named 'better_calculator_agent.ipynb' with 212 insertions. This notebook contains code cells that define functions for mathematical operations like multiplication, addition, and squaring. Additionally, it imports necessary modules and tools for these operations. The patch also updates the model used in the OpenAI instance to 'gpt-4' and creates an agent with tools for multiplication, addition, and squaring operations. The notebook demonstrates step-by-step calculations for various mathematical expressions using these tools.\n",
      "\u001b[0m\u001b[1;3;38;5;200mThought: I can now proceed to generate a detailed blog post body describing the commit changes in great detail.\n",
      "Action: set_body\n",
      "Action Input: {'commit_body': \"The changes in this patch include the addition of a new Jupyter notebook file named 'better_calculator_agent.ipynb' with 212 insertions. This notebook contains code cells that define functions for mathematical operations like multiplication, addition, and squaring. Additionally, it imports necessary modules and tools for these operations. The patch also updates the model used in the OpenAI instance to 'gpt-4' and creates an agent with tools for multiplication, addition, and squaring operations. The notebook demonstrates step-by-step calculations for various mathematical expressions using these tools.\"}\n",
      "\u001b[0m\u001b[1;3;34mObservation: Generate a detailed blog post about the changes described in this commit. The summary must be written in a markdown and should be between 1000 to 2000 words. Include at least 2 Heading 2 headings.  The changes in this patch include the addition of a new Jupyter notebook file named 'better_calculator_agent.ipynb' with 212 insertions. This notebook contains code cells that define functions for mathematical operations like multiplication, addition, and squaring. Additionally, it imports necessary modules and tools for these operations. The patch also updates the model used in the OpenAI instance to 'gpt-4' and creates an agent with tools for multiplication, addition, and squaring operations. The notebook demonstrates step-by-step calculations for various mathematical expressions using these tools.\n",
      "\u001b[0m\u001b[1;3;38;5;200mThought: I can answer without using any more tools.\n",
      "Answer: The blog post will discuss the addition of a new Jupyter notebook file named 'better_calculator_agent.ipynb' with 212 insertions. This notebook includes functions for mathematical operations, updates the model to 'gpt-4', and demonstrates calculations.\n",
      "\u001b[0m"
     ]
    }
   ],
   "source": [
    "overall_agent = ReActAgent.from_tools([title_tool, summary_tool, body_tool], llm=llm, verbose=True)\n",
    "overall_summary = overall_agent.chat(str(agent1_response))"
   ]
  },
  {
   "cell_type": "markdown",
   "metadata": {},
   "source": [
    "# STRETCH: Add a Tool that May not be used"
   ]
  },
  {
   "cell_type": "code",
   "execution_count": 145,
   "metadata": {},
   "outputs": [
    {
     "name": "stdout",
     "output_type": "stream",
     "text": [
      "\u001b[1;3;38;5;200mThought: I need to extract information from the provided URL about how to import functions from another Jupyter notebook.\n",
      "Action: set_related_articles\n",
      "Action Input: {'related_articles': AttributedDict([('title', 'Related Articles')])}\n",
      "\u001b[0m\u001b[1;3;34mObservation: Generate a likely description of the article based on the url, followed by the URL, for the following URLs.  AttributedDict([('title', 'Related Articles')])\n",
      "\u001b[0m\u001b[1;3;38;5;200mThought: I can generate a likely description of the article based on the URL provided.\n",
      "Answer: Description: The article likely explains how to import functions from another Jupyter notebook.\n",
      "URL: saturncloud.io/blog/how-to-import-functions-from-another-jupyter-notebook/\n",
      "\u001b[0m\u001b[1;3;38;5;200mThought: I can use the set_title tool to generate a recommended blog title based on the provided commit body.\n",
      "Action: set_title\n",
      "Action Input: {'commit_body': \"The changes in this patch include the addition of a new Jupyter notebook file named 'better_calculator_agent.ipynb' with 212 insertions. This notebook contains code cells that define functions for mathematical operations like multiplication, addition, and squaring. Additionally, it imports necessary modules and tools for these operations. The patch also updates the model used in the OpenAI instance to 'gpt-4' and creates an agent with tools for multiplication, addition, and squaring operations. The notebook demonstrates step-by-step calculations for various mathematical expressions using these tools.\"}\n",
      "\u001b[0m\u001b[1;3;34mObservation: generate a blog title of 10 words or less for the following code changes : The changes in this patch include the addition of a new Jupyter notebook file named 'better_calculator_agent.ipynb' with 212 insertions. This notebook contains code cells that define functions for mathematical operations like multiplication, addition, and squaring. Additionally, it imports necessary modules and tools for these operations. The patch also updates the model used in the OpenAI instance to 'gpt-4' and creates an agent with tools for multiplication, addition, and squaring operations. The notebook demonstrates step-by-step calculations for various mathematical expressions using these tools.\n",
      "\u001b[0m\u001b[1;3;38;5;200mThought: I can provide a detailed blog post body describing the commit changes in great detail using the set_body tool.\n",
      "Action: set_body\n",
      "Action Input: {'commit_body': \"The changes in this patch include the addition of a new Jupyter notebook file named 'better_calculator_agent.ipynb' with 212 insertions. This notebook contains code cells that define functions for mathematical operations like multiplication, addition, and squaring. Additionally, it imports necessary modules and tools for these operations. The patch also updates the model used in the OpenAI instance to 'gpt-4' and creates an agent with tools for multiplication, addition, and squaring operations. The notebook demonstrates step-by-step calculations for various mathematical expressions using these tools.\"}\n",
      "\u001b[0m\u001b[1;3;34mObservation: Generate a detailed blog post about the changes described in this commit. The summary must be written in a markdown and should be between 1000 to 2000 words. Include at least 2 Heading 2 headings.  The changes in this patch include the addition of a new Jupyter notebook file named 'better_calculator_agent.ipynb' with 212 insertions. This notebook contains code cells that define functions for mathematical operations like multiplication, addition, and squaring. Additionally, it imports necessary modules and tools for these operations. The patch also updates the model used in the OpenAI instance to 'gpt-4' and creates an agent with tools for multiplication, addition, and squaring operations. The notebook demonstrates step-by-step calculations for various mathematical expressions using these tools.\n",
      "\u001b[0m\u001b[1;3;38;5;200mThought: I can include related articles in the blog post to provide more context and information. I will use the set_related_articles tool for this.\n",
      "Action: set_related_articles\n",
      "Action Input: {'related_articles': 'You may also be interested in an article on the benefits of using Jupyter notebooks for data analysis and a guide on implementing mathematical functions in Python notebooks.'}\n",
      "\u001b[0m\u001b[1;3;34mObservation: Generate a likely description of the article based on the url, followed by the URL, for the following URLs.  You may also be interested in an article on the benefits of using Jupyter notebooks for data analysis and a guide on implementing mathematical functions in Python notebooks.\n",
      "\u001b[0m\u001b[1;3;38;5;200mThought: I can answer without using any more tools.\n",
      "Answer: The article likely discusses the advantages of utilizing Jupyter notebooks for data analysis and provides insights into implementing mathematical functions in Python notebooks. \n",
      "\n",
      "URLs:\n",
      "1. Benefits of using Jupyter notebooks for data analysis\n",
      "2. Guide on implementing mathematical functions in Python notebooks\n",
      "\u001b[0m"
     ]
    }
   ],
   "source": [
    "def set_related_articles(related_articles) -> str:\n",
    "    \"\"\"If there are related articles provided, adds a link to the article and describe the articles. \"\"\"\n",
    "    #submit commit_body to OpenAI's GPT-3.5 API\n",
    "    openai = OpenAI()\n",
    "    # generate a title from the commit body using open ai\n",
    "    response = openai.set_completion_to_prompt(\"Generate a likely description of the article based on the url, followed by the URL, for the following URLs.  \" + str(related_articles))\n",
    "    return response\n",
    "\n",
    "related_articles = \"https://www.acko.com/calculators/ advanced calculators article\"\n",
    "\n",
    "related_articles_tool = FunctionTool.from_defaults(fn=set_related_articles)\n",
    "related_articles_agent = ReActAgent.from_tools([related_articles_tool], llm=llm, verbose=True)\n",
    "response_related_articles = related_articles_agent.chat(related_articles)\n",
    "\n",
    "overall_agent = ReActAgent.from_tools([title_tool, summary_tool, body_tool, related_articles_tool], llm=llm, verbose=True)\n",
    "overall_summary = overall_agent.chat(str(agent1_response))"
   ]
  }
 ],
 "metadata": {
  "kernelspec": {
   "display_name": "hw_milvus",
   "language": "python",
   "name": "python3"
  },
  "language_info": {
   "codemirror_mode": {
    "name": "ipython",
    "version": 3
   },
   "file_extension": ".py",
   "mimetype": "text/x-python",
   "name": "python",
   "nbconvert_exporter": "python",
   "pygments_lexer": "ipython3",
   "version": "3.12.2"
  }
 },
 "nbformat": 4,
 "nbformat_minor": 2
}
