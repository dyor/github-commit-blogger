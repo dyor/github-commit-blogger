{
 "cells": [
  {
   "cell_type": "code",
   "execution_count": 1,
   "metadata": {},
   "outputs": [
    {
     "name": "stdout",
     "output_type": "stream",
     "text": [
      "zsh:1: command not found: pip\n"
     ]
    }
   ],
   "source": [
    "# first run installations and data download\n",
    "! pip install -U llama-index llama-index-vector-stores-milvus pymilvus llama-index-llms-openai llama-index-readers-file\n",
    "! mkdir -p './storage/commits'\n"
   ]
  },
  {
   "cell_type": "code",
   "execution_count": 2,
   "metadata": {},
   "outputs": [],
   "source": [
    "from llama_index.core import (\n",
    "    SimpleDirectoryReader,\n",
    "    VectorStoreIndex,\n",
    "    StorageContext,\n",
    "    load_index_from_storage,\n",
    ")\n",
    "from llama_index.core.tools import QueryEngineTool, ToolMetadata\n",
    "\n",
    "from pymilvus import connections\n",
    "from llama_index.vector_stores.milvus import MilvusVectorStore"
   ]
  },
  {
   "cell_type": "code",
   "execution_count": 3,
   "metadata": {},
   "outputs": [],
   "source": [
    "try:\n",
    "    storage_context = StorageContext.from_defaults(\n",
    "        persist_dir=\"./storage/commits\"\n",
    "    )\n",
    "    commit_index = load_index_from_storage(storage_context)\n",
    "\n",
    "    index_loaded = True\n",
    "except:\n",
    "    index_loaded = False"
   ]
  },
  {
   "cell_type": "code",
   "execution_count": 10,
   "metadata": {},
   "outputs": [
    {
     "data": {
      "text/plain": [
       "True"
      ]
     },
     "execution_count": 10,
     "metadata": {},
     "output_type": "execute_result"
    }
   ],
   "source": [
    "from dotenv import load_dotenv\n",
    "import os\n",
    "load_dotenv()"
   ]
  },
  {
   "cell_type": "code",
   "execution_count": 11,
   "metadata": {},
   "outputs": [],
   "source": [
    "if not index_loaded:\n",
    "    # load data\n",
    "    commit_docs = SimpleDirectoryReader(\n",
    "        input_files=[\"./0001-adding-a-better-calculator.patch\"]\n",
    "    ).load_data()\n",
    "\n",
    "    # build index\n",
    "    vector_store_commit = MilvusVectorStore(dim=1536, collection_name=\"commit\", overwrite=True)\n",
    "    \n",
    "    storage_context_commit = StorageContext.from_defaults(vector_store=vector_store_commit)\n",
    "    commit_index = VectorStoreIndex.from_documents(commit_docs, storage_context=storage_context_commit)\n",
    "\n",
    "\n",
    "    # persist index\n",
    "    commit_index.storage_context.persist(persist_dir=\"./storage/commit\")\n"
   ]
  },
  {
   "cell_type": "code",
   "execution_count": 12,
   "metadata": {},
   "outputs": [],
   "source": [
    "commit_engine = commit_index.as_query_engine(similarity_top_k=3)"
   ]
  },
  {
   "cell_type": "code",
   "execution_count": 13,
   "metadata": {},
   "outputs": [],
   "source": [
    "query_engine_tools = [\n",
    "    QueryEngineTool(\n",
    "        query_engine=commit_engine,\n",
    "        metadata=ToolMetadata(\n",
    "            name=\"commit_summary\",\n",
    "            description=(\n",
    "                \"Provides summary information about a commit patch.  \"\n",
    "                \"Need to manually run 'git format-patch -1 to generate the patch file.\"\n",
    "            ),\n",
    "        ),\n",
    "    ),\n",
    "]"
   ]
  },
  {
   "cell_type": "code",
   "execution_count": 14,
   "metadata": {},
   "outputs": [],
   "source": [
    "from llama_index.core.agent import ReActAgent\n",
    "from llama_index.llms.openai import OpenAI"
   ]
  },
  {
   "cell_type": "code",
   "execution_count": 15,
   "metadata": {},
   "outputs": [],
   "source": [
    "llm = OpenAI(model=\"gpt-3.5-turbo-0613\")\n",
    "\n",
    "agent = ReActAgent.from_tools(\n",
    "    query_engine_tools,\n",
    "    llm=llm,\n",
    "    verbose=True,\n",
    "    # context=context\n",
    ")"
   ]
  },
  {
   "cell_type": "code",
   "execution_count": 18,
   "metadata": {},
   "outputs": [
    {
     "name": "stdout",
     "output_type": "stream",
     "text": [
      "\u001b[1;3;38;5;200mThought: I need to use a tool to help me answer the question.\n",
      "Action: commit_summary\n",
      "Action Input: {'input': '0001-adding-a-better-calculator.patch'}\n",
      "\u001b[0m\u001b[1;3;34mObservation: The patch file \"0001-adding-a-better-calculator.patch\" introduces a new Jupyter notebook file named \"better_calculator_agent.ipynb\" that contains code for a better calculator agent. The notebook includes functions for multiplication, addition, and squaring integers. It also initializes an agent with these tools and an OpenAI model. The agent is capable of performing step-by-step calculations based on user input, demonstrating the order of operations and providing the results interactively.\n",
      "\u001b[0m\u001b[1;3;38;5;200mThought: I can answer without using any more tools.\n",
      "Answer: The patch file \"0001-adding-a-better-calculator.patch\" introduces a new Jupyter notebook file named \"better_calculator_agent.ipynb\" that contains code for a better calculator agent. The notebook includes functions for multiplication, addition, and squaring integers. It also initializes an agent with these tools and an OpenAI model. The agent is capable of performing step-by-step calculations based on user input, demonstrating the order of operations and providing the results interactively.\n",
      "\u001b[0mThe patch file \"0001-adding-a-better-calculator.patch\" introduces a new Jupyter notebook file named \"better_calculator_agent.ipynb\" that contains code for a better calculator agent. The notebook includes functions for multiplication, addition, and squaring integers. It also initializes an agent with these tools and an OpenAI model. The agent is capable of performing step-by-step calculations based on user input, demonstrating the order of operations and providing the results interactively.\n"
     ]
    }
   ],
   "source": [
    "response = agent.chat(\"What changes were made in this patch?\")\n",
    "print(str(response))"
   ]
  }
 ],
 "metadata": {
  "kernelspec": {
   "display_name": "hw_milvus",
   "language": "python",
   "name": "python3"
  },
  "language_info": {
   "codemirror_mode": {
    "name": "ipython",
    "version": 3
   },
   "file_extension": ".py",
   "mimetype": "text/x-python",
   "name": "python",
   "nbconvert_exporter": "python",
   "pygments_lexer": "ipython3",
   "version": "3.12.2"
  }
 },
 "nbformat": 4,
 "nbformat_minor": 2
}
