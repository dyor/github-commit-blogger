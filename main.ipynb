{
 "cells": [
  {
   "cell_type": "code",
   "execution_count": 23,
   "metadata": {},
   "outputs": [
    {
     "name": "stdout",
     "output_type": "stream",
     "text": [
      "zsh:1: command not found: pip\n"
     ]
    }
   ],
   "source": [
    "# first run installations and data download\n",
    "! pip install -U llama-index llama-index-vector-stores-milvus pymilvus llama-index-llms-openai llama-index-readers-file\n",
    "! mkdir -p './storage/commits'\n"
   ]
  },
  {
   "cell_type": "code",
   "execution_count": 24,
   "metadata": {},
   "outputs": [],
   "source": [
    "from llama_index.core import (\n",
    "    SimpleDirectoryReader,\n",
    "    VectorStoreIndex,\n",
    "    StorageContext,\n",
    "    load_index_from_storage,\n",
    ")\n",
    "from llama_index.core.tools import QueryEngineTool, ToolMetadata\n",
    "\n",
    "from pymilvus import connections\n",
    "from llama_index.vector_stores.milvus import MilvusVectorStore"
   ]
  },
  {
   "cell_type": "code",
   "execution_count": 25,
   "metadata": {},
   "outputs": [],
   "source": [
    "try:\n",
    "    storage_context = StorageContext.from_defaults(\n",
    "        persist_dir=\"./storage/commits\"\n",
    "    )\n",
    "    commit_index = load_index_from_storage(storage_context)\n",
    "\n",
    "    index_loaded = True\n",
    "except:\n",
    "    index_loaded = False"
   ]
  },
  {
   "cell_type": "code",
   "execution_count": 26,
   "metadata": {},
   "outputs": [
    {
     "data": {
      "text/plain": [
       "True"
      ]
     },
     "execution_count": 26,
     "metadata": {},
     "output_type": "execute_result"
    }
   ],
   "source": [
    "from dotenv import load_dotenv\n",
    "import os\n",
    "load_dotenv()"
   ]
  },
  {
   "cell_type": "code",
   "execution_count": 27,
   "metadata": {},
   "outputs": [],
   "source": [
    "if not index_loaded:\n",
    "    # load data\n",
    "    commit_docs = SimpleDirectoryReader(\n",
    "        input_files=[\"./0001-adding-a-better-calculator.patch\"]\n",
    "    ).load_data()\n",
    "\n",
    "    # build index\n",
    "    vector_store_commit = MilvusVectorStore(dim=1536, collection_name=\"commit\", overwrite=True)\n",
    "    \n",
    "    storage_context_commit = StorageContext.from_defaults(vector_store=vector_store_commit)\n",
    "    commit_index = VectorStoreIndex.from_documents(commit_docs, storage_context=storage_context_commit)\n",
    "\n",
    "\n",
    "    # persist index\n",
    "    commit_index.storage_context.persist(persist_dir=\"./storage/commit\")\n"
   ]
  },
  {
   "cell_type": "code",
   "execution_count": 28,
   "metadata": {},
   "outputs": [],
   "source": [
    "commit_engine = commit_index.as_query_engine(similarity_top_k=3)"
   ]
  },
  {
   "cell_type": "code",
   "execution_count": 29,
   "metadata": {},
   "outputs": [],
   "source": [
    "query_engine_tools = [\n",
    "    QueryEngineTool(\n",
    "        query_engine=commit_engine,\n",
    "        metadata=ToolMetadata(\n",
    "            name=\"commit_summary\",\n",
    "            description=(\n",
    "                \"Provides summary information about a commit patch.  \"\n",
    "                # \"Need to manually run 'git format-patch -1 to generate the patch file.\"\n",
    "            ),\n",
    "        ),\n",
    "    ),\n",
    "]"
   ]
  },
  {
   "cell_type": "code",
   "execution_count": 30,
   "metadata": {},
   "outputs": [],
   "source": [
    "from llama_index.core.agent import ReActAgent\n",
    "from llama_index.llms.openai import OpenAI"
   ]
  },
  {
   "cell_type": "code",
   "execution_count": 31,
   "metadata": {},
   "outputs": [],
   "source": [
    "llm = OpenAI(model=\"gpt-3.5-turbo-0613\")\n",
    "\n",
    "agent = ReActAgent.from_tools(\n",
    "    query_engine_tools,\n",
    "    llm=llm,\n",
    "    verbose=True,\n",
    "    # context=context\n",
    ")"
   ]
  },
  {
   "cell_type": "code",
   "execution_count": 47,
   "metadata": {},
   "outputs": [
    {
     "name": "stdout",
     "output_type": "stream",
     "text": [
      "\u001b[1;3;38;5;200mThought: I need to use a tool to help me answer the question.\n",
      "Action: commit_summary\n",
      "Action Input: {'input': 'describe changes in patch'}\n",
      "\u001b[0m\u001b[1;3;34mObservation: The changes in the patch include the addition of a new Jupyter notebook file named \"better_calculator_agent.ipynb\" with 212 insertions. This notebook contains code cells defining functions for multiplication, addition, and squaring integers. Additionally, it imports necessary modules and initializes an OpenAI model. The patch also includes interactions where calculations are performed step by step using the defined functions, demonstrating the order of operations and the results of the calculations.\n",
      "\u001b[0m\u001b[1;3;38;5;200mThought: I can answer without using any more tools.\n",
      "Answer: The changes in the patch include the addition of a new Jupyter notebook file named \"better_calculator_agent.ipynb\" with functions for multiplication, addition, and squaring integers. It also includes code to interact with the OpenAI model \"gpt-4\" and demonstrates step-by-step calculations for various mathematical operations.\n",
      "\u001b[0mThe changes in the patch include the addition of a new Jupyter notebook file named \"better_calculator_agent.ipynb\" with functions for multiplication, addition, and squaring integers. It also includes code to interact with the OpenAI model \"gpt-4\" and demonstrates step-by-step calculations for various mathematical operations.\n"
     ]
    }
   ],
   "source": [
    "agent1_response = agent.chat(\"Describe in great detail what changes were made in this patch?\")\n",
    "print(str(agent1_response))"
   ]
  },
  {
   "cell_type": "code",
   "execution_count": 38,
   "metadata": {},
   "outputs": [],
   "source": [
    "from llama_index.core.agent import ReActAgent\n",
    "from llama_index.llms.openai import OpenAI\n",
    "from llama_index.core.tools import FunctionTool"
   ]
  },
  {
   "cell_type": "code",
   "execution_count": null,
   "metadata": {},
   "outputs": [],
   "source": []
  },
  {
   "cell_type": "code",
   "execution_count": 52,
   "metadata": {},
   "outputs": [],
   "source": [
    "def set_title(commit_body) -> str:\n",
    "    \"\"\"Takes in a commit body and returns a recommended blog title\"\"\"\n",
    "    #submit commit_body to OpenAI's GPT-3.5 API\n",
    "    openai = OpenAI()\n",
    "    # generate a title from the commit body using open ai\n",
    "    response = openai.completion_to_prompt(\"generate a blog title of 10 words or less for the following code changes : \" + commit_body)\n",
    "    return response\n",
    "\n",
    "\n",
    "title_tool = FunctionTool.from_defaults(fn=set_title)"
   ]
  },
  {
   "cell_type": "code",
   "execution_count": 53,
   "metadata": {},
   "outputs": [],
   "source": [
    "llm = OpenAI(model=\"gpt-3.5-turbo\")\n",
    "#  llm = OpenAI(model=\"gpt-4\")\n",
    "title_agent = ReActAgent.from_tools([title_tool], llm=llm, verbose=True)"
   ]
  },
  {
   "cell_type": "code",
   "execution_count": 54,
   "metadata": {},
   "outputs": [
    {
     "name": "stdout",
     "output_type": "stream",
     "text": [
      "\u001b[1;3;38;5;200mThought: I need to use a tool to help me generate a blog title for this commit.\n",
      "Action: set_title\n",
      "Action Input: {'commit_body': \"The changes in the patch include the addition of a new Jupyter notebook file named 'better_calculator_agent.ipynb' with functions for multiplication, addition, and squaring integers. It also includes code to interact with the OpenAI model 'gpt-4' and demonstrates step-by-step calculations for various mathematical operations.\"}\n",
      "\u001b[0m\u001b[1;3;34mObservation: generate a blog title of 10 words or less for the following code changes : The changes in the patch include the addition of a new Jupyter notebook file named 'better_calculator_agent.ipynb' with functions for multiplication, addition, and squaring integers. It also includes code to interact with the OpenAI model 'gpt-4' and demonstrates step-by-step calculations for various mathematical operations.\n",
      "\u001b[0m\u001b[1;3;38;5;200mThought: I can answer without using any more tools.\n",
      "Answer: \"Introducing Better Calculator Agent: Interactive Math Operations with GPT-4\"\n",
      "\u001b[0m\"Introducing Better Calculator Agent: Interactive Math Operations with GPT-4\"\n"
     ]
    }
   ],
   "source": [
    "response_gen = title_agent.chat(str(agent1_response))\n",
    "print(str(response_gen))"
   ]
  },
  {
   "cell_type": "code",
   "execution_count": 55,
   "metadata": {},
   "outputs": [],
   "source": [
    "def set_summary(commit_body) -> str:\n",
    "    \"\"\"Takes in a commit body and returns a recommended commit summary\"\"\"\n",
    "    #submit commit_body to OpenAI's GPT-3.5 API\n",
    "    openai = OpenAI()\n",
    "    # generate a title from the commit body using open ai\n",
    "    response = openai.completion_to_prompt(\"generate a blog summary of 200 words for the following code changes : \" + commit_body)\n",
    "    return response\n",
    "\n",
    "\n",
    "summary_tool = FunctionTool.from_defaults(fn=set_summary)"
   ]
  },
  {
   "cell_type": "code",
   "execution_count": 56,
   "metadata": {},
   "outputs": [],
   "source": [
    "summary_agent = ReActAgent.from_tools([summary_tool], llm=llm, verbose=True)"
   ]
  },
  {
   "cell_type": "code",
   "execution_count": 57,
   "metadata": {},
   "outputs": [
    {
     "name": "stdout",
     "output_type": "stream",
     "text": [
      "\u001b[1;3;38;5;200mThought: I need to use a tool to generate a commit summary for the changes described in the patch.\n",
      "Action: set_summary\n",
      "Action Input: {'commit_body': \"The changes in the patch include the addition of a new Jupyter notebook file named 'better_calculator_agent.ipynb' with functions for multiplication, addition, and squaring integers. It also includes code to interact with the OpenAI model 'gpt-4' and demonstrates step-by-step calculations for various mathematical operations.\"}\n",
      "\u001b[0m\u001b[1;3;34mObservation: generate a blog summary of 200 words for the following code changes : The changes in the patch include the addition of a new Jupyter notebook file named 'better_calculator_agent.ipynb' with functions for multiplication, addition, and squaring integers. It also includes code to interact with the OpenAI model 'gpt-4' and demonstrates step-by-step calculations for various mathematical operations.\n",
      "\u001b[0m\u001b[1;3;38;5;200mThought: I can generate a blog summary without using any more tools.\n",
      "Answer: The patch introduces a new Jupyter notebook file, \"better_calculator_agent.ipynb,\" featuring functions for multiplication, addition, and squaring integers. Additionally, the code integrates with the OpenAI model \"gpt-4\" to showcase detailed calculations for a range of mathematical operations. This comprehensive addition enhances the functionality of the project by providing a user-friendly interface for performing complex calculations with ease. The step-by-step demonstrations offer insight into the process behind each operation, making it a valuable resource for both beginners and experienced users seeking to leverage advanced mathematical capabilities.\n",
      "\u001b[0mThe patch introduces a new Jupyter notebook file, \"better_calculator_agent.ipynb,\" featuring functions for multiplication, addition, and squaring integers. Additionally, the code integrates with the OpenAI model \"gpt-4\" to showcase detailed calculations for a range of mathematical operations. This comprehensive addition enhances the functionality of the project by providing a user-friendly interface for performing complex calculations with ease. The step-by-step demonstrations offer insight into the process behind each operation, making it a valuable resource for both beginners and experienced users seeking to leverage advanced mathematical capabilities.\n"
     ]
    }
   ],
   "source": [
    "# response_summary = summary_agent.stream_chat(str(agent1_response))\n",
    "# response_gen.print_response_stream()\n",
    "\n",
    "response_summary = summary_agent.chat(str(agent1_response))\n",
    "print(str(response_summary))"
   ]
  },
  {
   "cell_type": "code",
   "execution_count": 65,
   "metadata": {},
   "outputs": [],
   "source": [
    "note_file = \"notes.txt\"  # Directly assign the file name to the variable\n",
    "\n",
    "def save_note(note):\n",
    "    # Check if the file does not exist before opening it in write mode\n",
    "    if not os.path.exists(note_file):\n",
    "        open(note_file, \"w\").close()  # Open and immediately close the file to create it if it doesn't exist\n",
    "\n",
    "    # Open the file in append mode and write the note\n",
    "    with open(note_file, \"a\") as f:\n",
    "        f.writelines([note + \"\\n\"])\n",
    "\n",
    "    return \"note saved\""
   ]
  },
  {
   "cell_type": "code",
   "execution_count": 66,
   "metadata": {},
   "outputs": [
    {
     "name": "stdout",
     "output_type": "stream",
     "text": [
      "\u001b[1;3;38;5;200mThought: I need to use a tool to help me answer the question.\n",
      "Action: set_title\n",
      "Action Input: {'commit_body': \"The changes in the patch include the addition of a new Jupyter notebook file named 'better_calculator_agent.ipynb' with functions for multiplication, addition, and squaring integers. It also includes code to interact with the OpenAI model 'gpt-4' and demonstrates step-by-step calculations for various mathematical operations.\"}\n",
      "\u001b[0m\u001b[1;3;34mObservation: generate a blog title of 10 words or less for the following code changes : The changes in the patch include the addition of a new Jupyter notebook file named 'better_calculator_agent.ipynb' with functions for multiplication, addition, and squaring integers. It also includes code to interact with the OpenAI model 'gpt-4' and demonstrates step-by-step calculations for various mathematical operations.\n",
      "\u001b[0m\u001b[1;3;38;5;200mThought: I can answer without using any more tools.\n",
      "Answer: \"Enhanced Calculator Agent: Math Operations with GPT-4 in Jupyter\"\n",
      "\u001b[0m\u001b[1;3;38;5;200mThought: I need to use a tool to help me answer the question.\n",
      "Action: set_summary\n",
      "Action Input: {'commit_body': \"The changes in the patch include the addition of a new Jupyter notebook file named 'better_calculator_agent.ipynb' with functions for multiplication, addition, and squaring integers. It also includes code to interact with the OpenAI model 'gpt-4' and demonstrates step-by-step calculations for various mathematical operations.\"}\n",
      "\u001b[0m\u001b[1;3;34mObservation: generate a blog summary of 200 words for the following code changes : The changes in the patch include the addition of a new Jupyter notebook file named 'better_calculator_agent.ipynb' with functions for multiplication, addition, and squaring integers. It also includes code to interact with the OpenAI model 'gpt-4' and demonstrates step-by-step calculations for various mathematical operations.\n",
      "\u001b[0m\u001b[1;3;38;5;200mThought: I can answer without using any more tools.\n",
      "Answer: The recent patch introduces a new Jupyter notebook file, 'better_calculator_agent.ipynb', featuring functions for multiplication, addition, and squaring integers. This addition enhances the project's functionality by providing a user-friendly interface for mathematical operations. The code now integrates with the OpenAI model 'gpt-4', enabling advanced interactions and demonstrating step-by-step calculations for various mathematical operations. Users can benefit from detailed demonstrations and the ability to perform complex calculations efficiently within the notebook environment. This comprehensive addition not only expands the project's capabilities but also enhances the user experience by simplifying the process of executing mathematical tasks with the support of cutting-edge technology.\n",
      "\u001b[0m"
     ]
    },
    {
     "ename": "TypeError",
     "evalue": "unsupported operand type(s) for +: 'AgentChatResponse' and 'str'",
     "output_type": "error",
     "traceback": [
      "\u001b[0;31m---------------------------------------------------------------------------\u001b[0m",
      "\u001b[0;31mTypeError\u001b[0m                                 Traceback (most recent call last)",
      "Cell \u001b[0;32mIn[66], line 9\u001b[0m\n\u001b[1;32m      6\u001b[0m     \u001b[38;5;28;01mreturn\u001b[39;00m title, summary\n\u001b[1;32m      8\u001b[0m title, summary \u001b[38;5;241m=\u001b[39m write_blog()\n\u001b[0;32m----> 9\u001b[0m \u001b[43msave_note\u001b[49m\u001b[43m(\u001b[49m\u001b[43mtitle\u001b[49m\u001b[43m)\u001b[49m\n\u001b[1;32m     10\u001b[0m save_note(summary)\n",
      "Cell \u001b[0;32mIn[65], line 10\u001b[0m, in \u001b[0;36msave_note\u001b[0;34m(note)\u001b[0m\n\u001b[1;32m      8\u001b[0m \u001b[38;5;66;03m# Open the file in append mode and write the note\u001b[39;00m\n\u001b[1;32m      9\u001b[0m \u001b[38;5;28;01mwith\u001b[39;00m \u001b[38;5;28mopen\u001b[39m(note_file, \u001b[38;5;124m\"\u001b[39m\u001b[38;5;124ma\u001b[39m\u001b[38;5;124m\"\u001b[39m) \u001b[38;5;28;01mas\u001b[39;00m f:\n\u001b[0;32m---> 10\u001b[0m     f\u001b[38;5;241m.\u001b[39mwritelines([\u001b[43mnote\u001b[49m\u001b[43m \u001b[49m\u001b[38;5;241;43m+\u001b[39;49m\u001b[43m \u001b[49m\u001b[38;5;124;43m\"\u001b[39;49m\u001b[38;5;130;43;01m\\n\u001b[39;49;00m\u001b[38;5;124;43m\"\u001b[39;49m])\n\u001b[1;32m     12\u001b[0m \u001b[38;5;28;01mreturn\u001b[39;00m \u001b[38;5;124m\"\u001b[39m\u001b[38;5;124mnote saved\u001b[39m\u001b[38;5;124m\"\u001b[39m\n",
      "\u001b[0;31mTypeError\u001b[0m: unsupported operand type(s) for +: 'AgentChatResponse' and 'str'"
     ]
    }
   ],
   "source": [
    "# blog_agent = ReActAgent.from_tools([summary_tool, title_tool], llm=llm, verbose=True)\n",
    "\n",
    "def write_blog():\n",
    "    title = title_agent.chat(str(agent1_response))\n",
    "    summary = summary_agent.chat(str(agent1_response))\n",
    "    return title, summary\n",
    "\n",
    "title, summary = write_blog()\n",
    "save_note(str(title))\n",
    "save_note(str(summary))"
   ]
  }
 ],
 "metadata": {
  "kernelspec": {
   "display_name": "hw_milvus",
   "language": "python",
   "name": "python3"
  },
  "language_info": {
   "codemirror_mode": {
    "name": "ipython",
    "version": 3
   },
   "file_extension": ".py",
   "mimetype": "text/x-python",
   "name": "python",
   "nbconvert_exporter": "python",
   "pygments_lexer": "ipython3",
   "version": "3.12.2"
  }
 },
 "nbformat": 4,
 "nbformat_minor": 2
}
