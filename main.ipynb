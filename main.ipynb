{
 "cells": [
  {
   "cell_type": "code",
   "execution_count": 90,
   "metadata": {},
   "outputs": [
    {
     "name": "stdout",
     "output_type": "stream",
     "text": [
      "zsh:1: command not found: pip\n"
     ]
    }
   ],
   "source": [
    "# first run installations and data download\n",
    "! pip install -U llama-index llama-index-vector-stores-milvus pymilvus llama-index-llms-openai llama-index-readers-file\n",
    "! mkdir -p './storage/commits'\n"
   ]
  },
  {
   "cell_type": "code",
   "execution_count": 91,
   "metadata": {},
   "outputs": [],
   "source": [
    "from llama_index.core import (\n",
    "    SimpleDirectoryReader,\n",
    "    VectorStoreIndex,\n",
    "    StorageContext,\n",
    "    load_index_from_storage,\n",
    ")\n",
    "from llama_index.core.tools import QueryEngineTool, ToolMetadata\n",
    "\n",
    "from pymilvus import connections\n",
    "from llama_index.vector_stores.milvus import MilvusVectorStore"
   ]
  },
  {
   "cell_type": "code",
   "execution_count": 92,
   "metadata": {},
   "outputs": [],
   "source": [
    "try:\n",
    "    storage_context = StorageContext.from_defaults(\n",
    "        persist_dir=\"./storage/commits\"\n",
    "    )\n",
    "    commit_index = load_index_from_storage(storage_context)\n",
    "\n",
    "    index_loaded = True\n",
    "except:\n",
    "    index_loaded = False"
   ]
  },
  {
   "cell_type": "code",
   "execution_count": 93,
   "metadata": {},
   "outputs": [
    {
     "data": {
      "text/plain": [
       "True"
      ]
     },
     "execution_count": 93,
     "metadata": {},
     "output_type": "execute_result"
    }
   ],
   "source": [
    "from dotenv import load_dotenv\n",
    "import os\n",
    "load_dotenv()"
   ]
  },
  {
   "cell_type": "markdown",
   "metadata": {},
   "source": [
    "# Build the Milvus Index from a Git Patch\n",
    "1. To generate a patch, in terminal type _git format-patch -1_\n",
    "2. Ingest the patch into Milvus"
   ]
  },
  {
   "cell_type": "code",
   "execution_count": 94,
   "metadata": {},
   "outputs": [],
   "source": [
    "if not index_loaded:\n",
    "    # load data\n",
    "    commit_docs = SimpleDirectoryReader(\n",
    "        input_files=[\"./0001-adding-a-better-calculator.patch\"]\n",
    "    ).load_data()\n",
    "\n",
    "    # build index\n",
    "    vector_store_commit = MilvusVectorStore(dim=1536, collection_name=\"commit\", overwrite=True)\n",
    "    \n",
    "    storage_context_commit = StorageContext.from_defaults(vector_store=vector_store_commit)\n",
    "    commit_index = VectorStoreIndex.from_documents(commit_docs, storage_context=storage_context_commit)\n",
    "\n",
    "\n",
    "    # persist index\n",
    "    commit_index.storage_context.persist(persist_dir=\"./storage/commit\")\n",
    "\n",
    "commit_engine = commit_index.as_query_engine(similarity_top_k=3)"
   ]
  },
  {
   "cell_type": "markdown",
   "metadata": {},
   "source": [
    "# Using Llama Index build a summary of the Commit"
   ]
  },
  {
   "cell_type": "code",
   "execution_count": 96,
   "metadata": {},
   "outputs": [],
   "source": [
    "query_engine_tools = [\n",
    "    QueryEngineTool(\n",
    "        query_engine=commit_engine,\n",
    "        metadata=ToolMetadata(\n",
    "            name=\"commit_summary\",\n",
    "            description=(\n",
    "                \"Provides summary information about a commit patch.  \"\n",
    "                # \"Need to manually run 'git format-patch -1 to generate the patch file.\"\n",
    "            ),\n",
    "        ),\n",
    "    ),\n",
    "]"
   ]
  },
  {
   "cell_type": "code",
   "execution_count": 97,
   "metadata": {},
   "outputs": [],
   "source": [
    "from llama_index.core.agent import ReActAgent\n",
    "from llama_index.llms.openai import OpenAI"
   ]
  },
  {
   "cell_type": "code",
   "execution_count": 98,
   "metadata": {},
   "outputs": [],
   "source": [
    "llm = OpenAI(model=\"gpt-3.5-turbo-0613\")\n",
    "\n",
    "agent = ReActAgent.from_tools(\n",
    "    query_engine_tools,\n",
    "    llm=llm,\n",
    "    verbose=True,\n",
    "    # context=context\n",
    ")"
   ]
  },
  {
   "cell_type": "markdown",
   "metadata": {},
   "source": [
    "# Create 3 Llama Index Agents - Title, Summary, Body"
   ]
  },
  {
   "cell_type": "code",
   "execution_count": 99,
   "metadata": {},
   "outputs": [
    {
     "name": "stdout",
     "output_type": "stream",
     "text": [
      "\u001b[1;3;38;5;200mThought: I need to use a tool to help me answer the question.\n",
      "Action: commit_summary\n",
      "Action Input: {'input': 'describe the changes in this patch'}\n",
      "\u001b[0m\u001b[1;3;34mObservation: The changes in this patch include the addition of a new Jupyter notebook file named \"better_calculator_agent.ipynb\" with 212 insertions. This notebook contains code cells that define functions for mathematical operations like multiplication, addition, and squaring. Additionally, it imports necessary modules and tools for these operations. The patch also updates the model used in the OpenAI instance to \"gpt-4\" and creates an agent with tools for multiplication, addition, and squaring operations. The notebook demonstrates step-by-step calculations for various mathematical expressions using these tools.\n",
      "\u001b[0m\u001b[1;3;38;5;200mThought: I can answer without using any more tools.\n",
      "Answer: The changes in this patch include the addition of a new Jupyter notebook file named \"better_calculator_agent.ipynb\" with 212 insertions. This notebook contains code cells that define functions for mathematical operations like multiplication, addition, and squaring. Additionally, it imports necessary modules and tools for these operations. The patch also updates the model used in the OpenAI instance to \"gpt-4\" and creates an agent with tools for multiplication, addition, and squaring operations. The notebook demonstrates step-by-step calculations for various mathematical expressions using these tools.\n",
      "\u001b[0mThe changes in this patch include the addition of a new Jupyter notebook file named \"better_calculator_agent.ipynb\" with 212 insertions. This notebook contains code cells that define functions for mathematical operations like multiplication, addition, and squaring. Additionally, it imports necessary modules and tools for these operations. The patch also updates the model used in the OpenAI instance to \"gpt-4\" and creates an agent with tools for multiplication, addition, and squaring operations. The notebook demonstrates step-by-step calculations for various mathematical expressions using these tools.\n"
     ]
    }
   ],
   "source": [
    "agent1_response = agent.chat(\"Describe in great detail what changes were made in this patch?\")\n",
    "print(str(agent1_response))"
   ]
  },
  {
   "cell_type": "code",
   "execution_count": 100,
   "metadata": {},
   "outputs": [],
   "source": [
    "from llama_index.core.agent import ReActAgent\n",
    "from llama_index.llms.openai import OpenAI\n",
    "from llama_index.core.tools import FunctionTool"
   ]
  },
  {
   "cell_type": "code",
   "execution_count": null,
   "metadata": {},
   "outputs": [],
   "source": []
  },
  {
   "cell_type": "code",
   "execution_count": 127,
   "metadata": {},
   "outputs": [
    {
     "name": "stdout",
     "output_type": "stream",
     "text": [
      "\u001b[1;3;38;5;200mThought: I need to use a tool to help me generate a blog title based on the provided commit body.\n",
      "Action: set_title\n",
      "Action Input: {'commit_body': \"The changes in this patch include the addition of a new Jupyter notebook file named 'better_calculator_agent.ipynb' with 212 insertions. This notebook contains code cells that define functions for mathematical operations like multiplication, addition, and squaring. Additionally, it imports necessary modules and tools for these operations. The patch also updates the model used in the OpenAI instance to 'gpt-4' and creates an agent with tools for multiplication, addition, and squaring operations. The notebook demonstrates step-by-step calculations for various mathematical expressions using these tools.\"}\n",
      "\u001b[0m\u001b[1;3;34mObservation: generate a blog title of 10 words or less for the following code changes : The changes in this patch include the addition of a new Jupyter notebook file named 'better_calculator_agent.ipynb' with 212 insertions. This notebook contains code cells that define functions for mathematical operations like multiplication, addition, and squaring. Additionally, it imports necessary modules and tools for these operations. The patch also updates the model used in the OpenAI instance to 'gpt-4' and creates an agent with tools for multiplication, addition, and squaring operations. The notebook demonstrates step-by-step calculations for various mathematical expressions using these tools.\n",
      "\u001b[0m\u001b[1;3;38;5;200mThought: I can answer without using any more tools.\n",
      "Answer: \"Introducing Better Calculator Agent: GPT-4 Powered Math Operations Guide\"\n",
      "\u001b[0m\"Introducing Better Calculator Agent: GPT-4 Powered Math Operations Guide\"\n"
     ]
    }
   ],
   "source": [
    "def set_title(commit_body) -> str:\n",
    "    \"\"\"Takes in a commit body and returns a recommended blog title\"\"\"\n",
    "    #submit commit_body to OpenAI's GPT-3.5 API\n",
    "    openai = OpenAI()\n",
    "    # generate a title from the commit body using open ai\n",
    "    response = openai.completion_to_prompt(\"generate a blog title of 10 words or less for the following code changes : \" + commit_body)\n",
    "    return response\n",
    "\n",
    "\n",
    "title_tool = FunctionTool.from_defaults(fn=set_title)\n",
    "title_agent = ReActAgent.from_tools([title_tool], llm=llm, verbose=True)\n",
    "response_gen = title_agent.chat(str(agent1_response))\n",
    "print(str(response_gen))"
   ]
  },
  {
   "cell_type": "code",
   "execution_count": 130,
   "metadata": {},
   "outputs": [
    {
     "name": "stdout",
     "output_type": "stream",
     "text": [
      "\u001b[1;3;38;5;200mThought: I need to generate a commit summary for the changes described in the patch.\n",
      "Action: set_summary\n",
      "Action Input: {'commit_body': \"The changes in this patch include the addition of a new Jupyter notebook file named 'better_calculator_agent.ipynb' with 212 insertions. This notebook contains code cells that define functions for mathematical operations like multiplication, addition, and squaring. Additionally, it imports necessary modules and tools for these operations. The patch also updates the model used in the OpenAI instance to 'gpt-4' and creates an agent with tools for multiplication, addition, and squaring operations. The notebook demonstrates step-by-step calculations for various mathematical expressions using these tools.\"}\n",
      "\u001b[0m\u001b[1;3;34mObservation: Generate a brief summary. The summary shiould be 20 words.  The changes in this patch include the addition of a new Jupyter notebook file named 'better_calculator_agent.ipynb' with 212 insertions. This notebook contains code cells that define functions for mathematical operations like multiplication, addition, and squaring. Additionally, it imports necessary modules and tools for these operations. The patch also updates the model used in the OpenAI instance to 'gpt-4' and creates an agent with tools for multiplication, addition, and squaring operations. The notebook demonstrates step-by-step calculations for various mathematical expressions using these tools.\n",
      "\u001b[0m\u001b[1;3;38;5;200mThought: I can answer without using any more tools.\n",
      "Answer: The patch adds 'better_calculator_agent.ipynb' with math functions, updates model to 'gpt-4', and demonstrates calculations.\n",
      "\u001b[0m"
     ]
    }
   ],
   "source": [
    "def set_summary(commit_body) -> str:\n",
    "    \"\"\"Takes in a commit body and returns a recommended commit summary\"\"\"\n",
    "    #submit commit_body to OpenAI's GPT-3.5 API\n",
    "    openai = OpenAI()\n",
    "    # generate a title from the commit body using open ai\n",
    "    response = openai.set_completion_to_prompt(\"Generate a brief summary. The summary shiould be 20 words.  \" + commit_body)\n",
    "    return response\n",
    "\n",
    "\n",
    "summary_tool = FunctionTool.from_defaults(fn=set_summary)\n",
    "summary_agent = ReActAgent.from_tools([summary_tool], llm=llm, verbose=True)\n",
    "response_summary = summary_agent.chat(str(agent1_response))"
   ]
  },
  {
   "cell_type": "code",
   "execution_count": 132,
   "metadata": {},
   "outputs": [
    {
     "name": "stdout",
     "output_type": "stream",
     "text": [
      "\u001b[1;3;38;5;200mThought: I need to use a tool to help me summarize the changes in the patch.\n",
      "Action: set_body\n",
      "Action Input: {'commit_body': \"The changes in this patch include the addition of a new Jupyter notebook file named 'better_calculator_agent.ipynb' with 212 insertions. This notebook contains code cells that define functions for mathematical operations like multiplication, addition, and squaring. Additionally, it imports necessary modules and tools for these operations. The patch also updates the model used in the OpenAI instance to 'gpt-4' and creates an agent with tools for multiplication, addition, and squaring operations. The notebook demonstrates step-by-step calculations for various mathematical expressions using these tools.\"}\n",
      "\u001b[0m\u001b[1;3;34mObservation: Generate a detailed blog post about the changes described in this commit. The summary must be written in a markdown and should be between 1000 to 2000 words. Include at least 2 Heading 2 headings.  The changes in this patch include the addition of a new Jupyter notebook file named 'better_calculator_agent.ipynb' with 212 insertions. This notebook contains code cells that define functions for mathematical operations like multiplication, addition, and squaring. Additionally, it imports necessary modules and tools for these operations. The patch also updates the model used in the OpenAI instance to 'gpt-4' and creates an agent with tools for multiplication, addition, and squaring operations. The notebook demonstrates step-by-step calculations for various mathematical expressions using these tools.\n",
      "\u001b[0m\u001b[1;3;38;5;200mThought: I can answer without using any more tools.\n",
      "Answer: ## Blog Post Summary\n",
      "\n",
      "### Introduction\n",
      "In this commit, significant changes were made to enhance the functionality of the project. The key additions include a new Jupyter notebook file named 'better_calculator_agent.ipynb' with 212 insertions. This notebook serves as a platform for defining functions for mathematical operations such as multiplication, addition, and squaring. Moreover, it incorporates essential modules and tools to support these operations effectively.\n",
      "\n",
      "### Updated Model and Agent Creation\n",
      "One of the major updates in this patch is the transition to using the 'gpt-4' model in the OpenAI instance. This model upgrade brings advanced capabilities and improved performance to the project. Additionally, a new agent was created with specialized tools for handling multiplication, addition, and squaring operations. These tools are designed to streamline the mathematical computation process and enhance overall efficiency.\n",
      "\n",
      "### Functionality Demonstration\n",
      "The 'better_calculator_agent.ipynb' notebook serves as a comprehensive guide for users, showcasing step-by-step calculations for various mathematical expressions. By leveraging the defined functions and imported tools, users can perform complex mathematical operations with ease and accuracy. The notebook's interactive nature allows for a hands-on learning experience, making it a valuable resource for both beginners and experienced users.\n",
      "\n",
      "### Conclusion\n",
      "In conclusion, the latest commit introduces significant enhancements to the project's mathematical capabilities. The addition of the 'better_calculator_agent.ipynb' notebook, updated model to 'gpt-4', and creation of a specialized agent demonstrate a commitment to improving functionality and user experience. With these changes, users can explore a wide range of mathematical operations efficiently and effectively, making the project more versatile and user-friendly.\n",
      "\u001b[0m"
     ]
    }
   ],
   "source": [
    "def set_body(commit_body) -> str:\n",
    "    \"\"\"Takes in a commit body and returns a blog post body describing the commit changes in great detail.\"\"\"\n",
    "    #submit commit_body to OpenAI's GPT-3.5 API\n",
    "    openai = OpenAI()\n",
    "    # generate a title from the commit body using open ai\n",
    "    response = openai.set_completion_to_prompt(\"Generate a detailed blog post about the changes described in this commit. The summary must be written in a markdown and should be between 1000 to 2000 words. Include at least 2 Heading 2 headings.  \" + commit_body)\n",
    "    return response\n",
    "\n",
    "\n",
    "body_tool = FunctionTool.from_defaults(fn=set_body)\n",
    "body_agent = ReActAgent.from_tools([body_tool], llm=llm, verbose=True)\n",
    "response_body = body_agent.chat(str(agent1_response))"
   ]
  },
  {
   "cell_type": "markdown",
   "metadata": {},
   "source": [
    "# Put it all together - Directive Approach"
   ]
  },
  {
   "cell_type": "code",
   "execution_count": 133,
   "metadata": {},
   "outputs": [
    {
     "name": "stdout",
     "output_type": "stream",
     "text": [
      "\u001b[1;3;38;5;200mThought: I need to use a tool to help me answer the question.\n",
      "Action: set_title\n",
      "Action Input: {'commit_body': \"The changes in this patch include the addition of a new Jupyter notebook file named 'better_calculator_agent.ipynb' with 212 insertions. This notebook contains code cells that define functions for mathematical operations like multiplication, addition, and squaring. Additionally, it imports necessary modules and tools for these operations. The patch also updates the model used in the OpenAI instance to 'gpt-4' and creates an agent with tools for multiplication, addition, and squaring operations. The notebook demonstrates step-by-step calculations for various mathematical expressions using these tools.\"}\n",
      "\u001b[0m\u001b[1;3;34mObservation: generate a blog title of 10 words or less for the following code changes : The changes in this patch include the addition of a new Jupyter notebook file named 'better_calculator_agent.ipynb' with 212 insertions. This notebook contains code cells that define functions for mathematical operations like multiplication, addition, and squaring. Additionally, it imports necessary modules and tools for these operations. The patch also updates the model used in the OpenAI instance to 'gpt-4' and creates an agent with tools for multiplication, addition, and squaring operations. The notebook demonstrates step-by-step calculations for various mathematical expressions using these tools.\n",
      "\u001b[0m\u001b[1;3;38;5;200mThought: I can answer without using any more tools.\n",
      "Answer: \"Enhanced Math Operations Guide with GPT-4-Powered Calculator Agent\"\n",
      "\u001b[0m\u001b[1;3;38;5;200mThought: I need to use a tool to help me summarize the provided information.\n",
      "Action: set_summary\n",
      "Action Input: {'commit_body': \"The changes in this patch include the addition of a new Jupyter notebook file named 'better_calculator_agent.ipynb' with 212 insertions. This notebook contains code cells that define functions for mathematical operations like multiplication, addition, and squaring. Additionally, it imports necessary modules and tools for these operations. The patch also updates the model used in the OpenAI instance to 'gpt-4' and creates an agent with tools for multiplication, addition, and squaring operations. The notebook demonstrates step-by-step calculations for various mathematical expressions using these tools.\"}\n",
      "\u001b[0m\u001b[1;3;34mObservation: Generate a brief summary. The summary shiould be 20 words.  The changes in this patch include the addition of a new Jupyter notebook file named 'better_calculator_agent.ipynb' with 212 insertions. This notebook contains code cells that define functions for mathematical operations like multiplication, addition, and squaring. Additionally, it imports necessary modules and tools for these operations. The patch also updates the model used in the OpenAI instance to 'gpt-4' and creates an agent with tools for multiplication, addition, and squaring operations. The notebook demonstrates step-by-step calculations for various mathematical expressions using these tools.\n",
      "\u001b[0m\u001b[1;3;38;5;200mThought: I can answer without using any more tools.\n",
      "Answer: The patch adds 'better_calculator_agent.ipynb' with math functions, updates model to 'gpt-4', and demonstrates calculations.\n",
      "\u001b[0m\u001b[1;3;38;5;200mThought: I can provide a detailed blog post summary based on the information provided.\n",
      "Answer: ## Blog Post Summary\n",
      "\n",
      "### Introduction\n",
      "The recent patch introduces a new Jupyter notebook file, \"better_calculator_agent.ipynb,\" with 212 insertions. This notebook is dedicated to defining functions for mathematical operations such as multiplication, addition, and squaring. It also includes the necessary imports of modules and tools to support these operations effectively.\n",
      "\n",
      "### Model Update and Agent Creation\n",
      "A significant update in this patch is the transition to the \"gpt-4\" model in the OpenAI instance. This model upgrade brings advanced capabilities to the project. Additionally, a new agent is created with specialized tools for multiplication, addition, and squaring operations, enhancing the project's mathematical functionalities.\n",
      "\n",
      "### Functionality Showcase\n",
      "The \"better_calculator_agent.ipynb\" notebook serves as a practical guide, demonstrating step-by-step calculations for various mathematical expressions using the defined functions and imported tools. Users can leverage these tools to perform complex mathematical operations efficiently. The interactive nature of the notebook provides a hands-on learning experience for users of all levels.\n",
      "\n",
      "### Conclusion\n",
      "In conclusion, the latest patch enhances the project's mathematical capabilities significantly. The addition of the new notebook, model update to \"gpt-4,\" and creation of a specialized agent showcase a commitment to improving functionality and user experience. Users can now explore a wide range of mathematical operations with ease and accuracy, making the project more versatile and user-friendly.\n",
      "\u001b[0m"
     ]
    }
   ],
   "source": [
    "# blog_agent = ReActAgent.from_tools([summary_tool, title_tool], llm=llm, verbose=True)\n",
    "\n",
    "def write_blog():\n",
    "    title = title_agent.chat(str(agent1_response))\n",
    "    summary = summary_agent.chat(str(agent1_response))\n",
    "    body = body_agent.chat(str(agent1_response))\n",
    "    \n",
    "    save_note(str(title))\n",
    "    save_note(str(summary))\n",
    "    save_note(str(body))\n",
    "    return title, summary, body\n",
    "\n",
    "title, summary, body = write_blog()"
   ]
  },
  {
   "cell_type": "markdown",
   "metadata": {},
   "source": [
    "# Put it all together - Independent Agent Approach"
   ]
  },
  {
   "cell_type": "code",
   "execution_count": 135,
   "metadata": {},
   "outputs": [
    {
     "name": "stdout",
     "output_type": "stream",
     "text": [
      "\u001b[1;3;38;5;200mThought: I can start by generating a title for the blog post based on the provided commit information.\n",
      "Action: set_title\n",
      "Action Input: {'commit_body': \"The changes in this patch include the addition of a new Jupyter notebook file named 'better_calculator_agent.ipynb' with 212 insertions. This notebook contains code cells that define functions for mathematical operations like multiplication, addition, and squaring. Additionally, it imports necessary modules and tools for these operations. The patch also updates the model used in the OpenAI instance to 'gpt-4' and creates an agent with tools for multiplication, addition, and squaring operations. The notebook demonstrates step-by-step calculations for various mathematical expressions using these tools.\"}\n",
      "\u001b[0m\u001b[1;3;34mObservation: generate a blog title of 10 words or less for the following code changes : The changes in this patch include the addition of a new Jupyter notebook file named 'better_calculator_agent.ipynb' with 212 insertions. This notebook contains code cells that define functions for mathematical operations like multiplication, addition, and squaring. Additionally, it imports necessary modules and tools for these operations. The patch also updates the model used in the OpenAI instance to 'gpt-4' and creates an agent with tools for multiplication, addition, and squaring operations. The notebook demonstrates step-by-step calculations for various mathematical expressions using these tools.\n",
      "\u001b[0m\u001b[1;3;38;5;200mThought: I should now work on generating a summary for the commit changes described.\n",
      "Action: set_summary\n",
      "Action Input: {'commit_body': \"The changes in this patch include the addition of a new Jupyter notebook file named 'better_calculator_agent.ipynb' with 212 insertions. This notebook contains code cells that define functions for mathematical operations like multiplication, addition, and squaring. Additionally, it imports necessary modules and tools for these operations. The patch also updates the model used in the OpenAI instance to 'gpt-4' and creates an agent with tools for multiplication, addition, and squaring operations. The notebook demonstrates step-by-step calculations for various mathematical expressions using these tools.\"}\n",
      "\u001b[0m\u001b[1;3;34mObservation: Generate a brief summary. The summary shiould be 20 words.  The changes in this patch include the addition of a new Jupyter notebook file named 'better_calculator_agent.ipynb' with 212 insertions. This notebook contains code cells that define functions for mathematical operations like multiplication, addition, and squaring. Additionally, it imports necessary modules and tools for these operations. The patch also updates the model used in the OpenAI instance to 'gpt-4' and creates an agent with tools for multiplication, addition, and squaring operations. The notebook demonstrates step-by-step calculations for various mathematical expressions using these tools.\n",
      "\u001b[0m\u001b[1;3;38;5;200mThought: I can now proceed to generate a detailed blog post body describing the commit changes in great detail.\n",
      "Action: set_body\n",
      "Action Input: {'commit_body': \"The changes in this patch include the addition of a new Jupyter notebook file named 'better_calculator_agent.ipynb' with 212 insertions. This notebook contains code cells that define functions for mathematical operations like multiplication, addition, and squaring. Additionally, it imports necessary modules and tools for these operations. The patch also updates the model used in the OpenAI instance to 'gpt-4' and creates an agent with tools for multiplication, addition, and squaring operations. The notebook demonstrates step-by-step calculations for various mathematical expressions using these tools.\"}\n",
      "\u001b[0m\u001b[1;3;34mObservation: Generate a detailed blog post about the changes described in this commit. The summary must be written in a markdown and should be between 1000 to 2000 words. Include at least 2 Heading 2 headings.  The changes in this patch include the addition of a new Jupyter notebook file named 'better_calculator_agent.ipynb' with 212 insertions. This notebook contains code cells that define functions for mathematical operations like multiplication, addition, and squaring. Additionally, it imports necessary modules and tools for these operations. The patch also updates the model used in the OpenAI instance to 'gpt-4' and creates an agent with tools for multiplication, addition, and squaring operations. The notebook demonstrates step-by-step calculations for various mathematical expressions using these tools.\n",
      "\u001b[0m\u001b[1;3;38;5;200mThought: I can answer without using any more tools.\n",
      "Answer: The blog post will discuss the addition of a new Jupyter notebook file named 'better_calculator_agent.ipynb' with 212 insertions. This notebook includes functions for mathematical operations, updates the model to 'gpt-4', and demonstrates calculations.\n",
      "\u001b[0m"
     ]
    }
   ],
   "source": [
    "overall_agent = ReActAgent.from_tools([title_tool, summary_tool, body_tool], llm=llm, verbose=True)\n",
    "overall_summary = overall_agent.chat(str(agent1_response))"
   ]
  },
  {
   "cell_type": "markdown",
   "metadata": {},
   "source": [
    "# STRETCH: Add a Tool that May not be used"
   ]
  },
  {
   "cell_type": "code",
   "execution_count": 139,
   "metadata": {},
   "outputs": [
    {
     "name": "stdout",
     "output_type": "stream",
     "text": [
      "\u001b[1;3;38;5;200mThought: I need to extract information from the provided URL.\n",
      "Action: set_related_articles\n",
      "Action Input: {'related_articles': AttributedDict([('title', 'How to Import Functions from Another Jupyter Notebook')])}\n",
      "\u001b[0m"
     ]
    },
    {
     "ename": "TypeError",
     "evalue": "can only concatenate str (not \"AttributedDict\") to str",
     "output_type": "error",
     "traceback": [
      "\u001b[0;31m---------------------------------------------------------------------------\u001b[0m",
      "\u001b[0;31mTypeError\u001b[0m                                 Traceback (most recent call last)",
      "Cell \u001b[0;32mIn[139], line 13\u001b[0m\n\u001b[1;32m     11\u001b[0m related_articles_tool \u001b[38;5;241m=\u001b[39m FunctionTool\u001b[38;5;241m.\u001b[39mfrom_defaults(fn\u001b[38;5;241m=\u001b[39mset_related_articles)\n\u001b[1;32m     12\u001b[0m related_articles_agent \u001b[38;5;241m=\u001b[39m ReActAgent\u001b[38;5;241m.\u001b[39mfrom_tools([related_articles_tool], llm\u001b[38;5;241m=\u001b[39mllm, verbose\u001b[38;5;241m=\u001b[39m\u001b[38;5;28;01mTrue\u001b[39;00m)\n\u001b[0;32m---> 13\u001b[0m response_related_articles \u001b[38;5;241m=\u001b[39m \u001b[43mrelated_articles_agent\u001b[49m\u001b[38;5;241;43m.\u001b[39;49m\u001b[43mchat\u001b[49m\u001b[43m(\u001b[49m\u001b[38;5;28;43mstr\u001b[39;49m\u001b[43m(\u001b[49m\u001b[43mrelated_articles\u001b[49m\u001b[43m)\u001b[49m\u001b[43m)\u001b[49m\n\u001b[1;32m     15\u001b[0m overall_agent \u001b[38;5;241m=\u001b[39m ReActAgent\u001b[38;5;241m.\u001b[39mfrom_tools([title_tool, summary_tool, body_tool], llm\u001b[38;5;241m=\u001b[39mllm, verbose\u001b[38;5;241m=\u001b[39m\u001b[38;5;28;01mTrue\u001b[39;00m)\n\u001b[1;32m     16\u001b[0m overall_summary \u001b[38;5;241m=\u001b[39m overall_agent\u001b[38;5;241m.\u001b[39mchat(\u001b[38;5;28mstr\u001b[39m(agent1_response))\n",
      "File \u001b[0;32m/Library/Frameworks/Python.framework/Versions/3.12/lib/python3.12/site-packages/llama_index/core/callbacks/utils.py:41\u001b[0m, in \u001b[0;36mtrace_method.<locals>.decorator.<locals>.wrapper\u001b[0;34m(self, *args, **kwargs)\u001b[0m\n\u001b[1;32m     39\u001b[0m callback_manager \u001b[38;5;241m=\u001b[39m cast(CallbackManager, callback_manager)\n\u001b[1;32m     40\u001b[0m \u001b[38;5;28;01mwith\u001b[39;00m callback_manager\u001b[38;5;241m.\u001b[39mas_trace(trace_id):\n\u001b[0;32m---> 41\u001b[0m     \u001b[38;5;28;01mreturn\u001b[39;00m \u001b[43mfunc\u001b[49m\u001b[43m(\u001b[49m\u001b[38;5;28;43mself\u001b[39;49m\u001b[43m,\u001b[49m\u001b[43m \u001b[49m\u001b[38;5;241;43m*\u001b[39;49m\u001b[43margs\u001b[49m\u001b[43m,\u001b[49m\u001b[43m \u001b[49m\u001b[38;5;241;43m*\u001b[39;49m\u001b[38;5;241;43m*\u001b[39;49m\u001b[43mkwargs\u001b[49m\u001b[43m)\u001b[49m\n",
      "File \u001b[0;32m/Library/Frameworks/Python.framework/Versions/3.12/lib/python3.12/site-packages/llama_index/core/agent/runner/base.py:575\u001b[0m, in \u001b[0;36mAgentRunner.chat\u001b[0;34m(self, message, chat_history, tool_choice)\u001b[0m\n\u001b[1;32m    570\u001b[0m     tool_choice \u001b[38;5;241m=\u001b[39m \u001b[38;5;28mself\u001b[39m\u001b[38;5;241m.\u001b[39mdefault_tool_choice\n\u001b[1;32m    571\u001b[0m \u001b[38;5;28;01mwith\u001b[39;00m \u001b[38;5;28mself\u001b[39m\u001b[38;5;241m.\u001b[39mcallback_manager\u001b[38;5;241m.\u001b[39mevent(\n\u001b[1;32m    572\u001b[0m     CBEventType\u001b[38;5;241m.\u001b[39mAGENT_STEP,\n\u001b[1;32m    573\u001b[0m     payload\u001b[38;5;241m=\u001b[39m{EventPayload\u001b[38;5;241m.\u001b[39mMESSAGES: [message]},\n\u001b[1;32m    574\u001b[0m ) \u001b[38;5;28;01mas\u001b[39;00m e:\n\u001b[0;32m--> 575\u001b[0m     chat_response \u001b[38;5;241m=\u001b[39m \u001b[38;5;28;43mself\u001b[39;49m\u001b[38;5;241;43m.\u001b[39;49m\u001b[43m_chat\u001b[49m\u001b[43m(\u001b[49m\n\u001b[1;32m    576\u001b[0m \u001b[43m        \u001b[49m\u001b[43mmessage\u001b[49m\u001b[43m,\u001b[49m\u001b[43m \u001b[49m\u001b[43mchat_history\u001b[49m\u001b[43m,\u001b[49m\u001b[43m \u001b[49m\u001b[43mtool_choice\u001b[49m\u001b[43m,\u001b[49m\u001b[43m \u001b[49m\u001b[43mmode\u001b[49m\u001b[38;5;241;43m=\u001b[39;49m\u001b[43mChatResponseMode\u001b[49m\u001b[38;5;241;43m.\u001b[39;49m\u001b[43mWAIT\u001b[49m\n\u001b[1;32m    577\u001b[0m \u001b[43m    \u001b[49m\u001b[43m)\u001b[49m\n\u001b[1;32m    578\u001b[0m     \u001b[38;5;28;01massert\u001b[39;00m \u001b[38;5;28misinstance\u001b[39m(chat_response, AgentChatResponse)\n\u001b[1;32m    579\u001b[0m     e\u001b[38;5;241m.\u001b[39mon_end(payload\u001b[38;5;241m=\u001b[39m{EventPayload\u001b[38;5;241m.\u001b[39mRESPONSE: chat_response})\n",
      "File \u001b[0;32m/Library/Frameworks/Python.framework/Versions/3.12/lib/python3.12/site-packages/llama_index/core/agent/runner/base.py:520\u001b[0m, in \u001b[0;36mAgentRunner._chat\u001b[0;34m(self, message, chat_history, tool_choice, mode)\u001b[0m\n\u001b[1;32m    517\u001b[0m result_output \u001b[38;5;241m=\u001b[39m \u001b[38;5;28;01mNone\u001b[39;00m\n\u001b[1;32m    518\u001b[0m \u001b[38;5;28;01mwhile\u001b[39;00m \u001b[38;5;28;01mTrue\u001b[39;00m:\n\u001b[1;32m    519\u001b[0m     \u001b[38;5;66;03m# pass step queue in as argument, assume step executor is stateless\u001b[39;00m\n\u001b[0;32m--> 520\u001b[0m     cur_step_output \u001b[38;5;241m=\u001b[39m \u001b[38;5;28;43mself\u001b[39;49m\u001b[38;5;241;43m.\u001b[39;49m\u001b[43m_run_step\u001b[49m\u001b[43m(\u001b[49m\n\u001b[1;32m    521\u001b[0m \u001b[43m        \u001b[49m\u001b[43mtask\u001b[49m\u001b[38;5;241;43m.\u001b[39;49m\u001b[43mtask_id\u001b[49m\u001b[43m,\u001b[49m\u001b[43m \u001b[49m\u001b[43mmode\u001b[49m\u001b[38;5;241;43m=\u001b[39;49m\u001b[43mmode\u001b[49m\u001b[43m,\u001b[49m\u001b[43m \u001b[49m\u001b[43mtool_choice\u001b[49m\u001b[38;5;241;43m=\u001b[39;49m\u001b[43mtool_choice\u001b[49m\n\u001b[1;32m    522\u001b[0m \u001b[43m    \u001b[49m\u001b[43m)\u001b[49m\n\u001b[1;32m    524\u001b[0m     \u001b[38;5;28;01mif\u001b[39;00m cur_step_output\u001b[38;5;241m.\u001b[39mis_last:\n\u001b[1;32m    525\u001b[0m         result_output \u001b[38;5;241m=\u001b[39m cur_step_output\n",
      "File \u001b[0;32m/Library/Frameworks/Python.framework/Versions/3.12/lib/python3.12/site-packages/llama_index/core/agent/runner/base.py:372\u001b[0m, in \u001b[0;36mAgentRunner._run_step\u001b[0;34m(self, task_id, step, input, mode, **kwargs)\u001b[0m\n\u001b[1;32m    368\u001b[0m \u001b[38;5;66;03m# TODO: figure out if you can dynamically swap in different step executors\u001b[39;00m\n\u001b[1;32m    369\u001b[0m \u001b[38;5;66;03m# not clear when you would do that by theoretically possible\u001b[39;00m\n\u001b[1;32m    371\u001b[0m \u001b[38;5;28;01mif\u001b[39;00m mode \u001b[38;5;241m==\u001b[39m ChatResponseMode\u001b[38;5;241m.\u001b[39mWAIT:\n\u001b[0;32m--> 372\u001b[0m     cur_step_output \u001b[38;5;241m=\u001b[39m \u001b[38;5;28;43mself\u001b[39;49m\u001b[38;5;241;43m.\u001b[39;49m\u001b[43magent_worker\u001b[49m\u001b[38;5;241;43m.\u001b[39;49m\u001b[43mrun_step\u001b[49m\u001b[43m(\u001b[49m\u001b[43mstep\u001b[49m\u001b[43m,\u001b[49m\u001b[43m \u001b[49m\u001b[43mtask\u001b[49m\u001b[43m,\u001b[49m\u001b[43m \u001b[49m\u001b[38;5;241;43m*\u001b[39;49m\u001b[38;5;241;43m*\u001b[39;49m\u001b[43mkwargs\u001b[49m\u001b[43m)\u001b[49m\n\u001b[1;32m    373\u001b[0m \u001b[38;5;28;01melif\u001b[39;00m mode \u001b[38;5;241m==\u001b[39m ChatResponseMode\u001b[38;5;241m.\u001b[39mSTREAM:\n\u001b[1;32m    374\u001b[0m     cur_step_output \u001b[38;5;241m=\u001b[39m \u001b[38;5;28mself\u001b[39m\u001b[38;5;241m.\u001b[39magent_worker\u001b[38;5;241m.\u001b[39mstream_step(step, task, \u001b[38;5;241m*\u001b[39m\u001b[38;5;241m*\u001b[39mkwargs)\n",
      "File \u001b[0;32m/Library/Frameworks/Python.framework/Versions/3.12/lib/python3.12/site-packages/llama_index/core/callbacks/utils.py:41\u001b[0m, in \u001b[0;36mtrace_method.<locals>.decorator.<locals>.wrapper\u001b[0;34m(self, *args, **kwargs)\u001b[0m\n\u001b[1;32m     39\u001b[0m callback_manager \u001b[38;5;241m=\u001b[39m cast(CallbackManager, callback_manager)\n\u001b[1;32m     40\u001b[0m \u001b[38;5;28;01mwith\u001b[39;00m callback_manager\u001b[38;5;241m.\u001b[39mas_trace(trace_id):\n\u001b[0;32m---> 41\u001b[0m     \u001b[38;5;28;01mreturn\u001b[39;00m \u001b[43mfunc\u001b[49m\u001b[43m(\u001b[49m\u001b[38;5;28;43mself\u001b[39;49m\u001b[43m,\u001b[49m\u001b[43m \u001b[49m\u001b[38;5;241;43m*\u001b[39;49m\u001b[43margs\u001b[49m\u001b[43m,\u001b[49m\u001b[43m \u001b[49m\u001b[38;5;241;43m*\u001b[39;49m\u001b[38;5;241;43m*\u001b[39;49m\u001b[43mkwargs\u001b[49m\u001b[43m)\u001b[49m\n",
      "File \u001b[0;32m/Library/Frameworks/Python.framework/Versions/3.12/lib/python3.12/site-packages/llama_index/core/agent/react/step.py:606\u001b[0m, in \u001b[0;36mReActAgentWorker.run_step\u001b[0;34m(self, step, task, **kwargs)\u001b[0m\n\u001b[1;32m    603\u001b[0m \u001b[38;5;129m@trace_method\u001b[39m(\u001b[38;5;124m\"\u001b[39m\u001b[38;5;124mrun_step\u001b[39m\u001b[38;5;124m\"\u001b[39m)\n\u001b[1;32m    604\u001b[0m \u001b[38;5;28;01mdef\u001b[39;00m \u001b[38;5;21mrun_step\u001b[39m(\u001b[38;5;28mself\u001b[39m, step: TaskStep, task: Task, \u001b[38;5;241m*\u001b[39m\u001b[38;5;241m*\u001b[39mkwargs: Any) \u001b[38;5;241m-\u001b[39m\u001b[38;5;241m>\u001b[39m TaskStepOutput:\n\u001b[1;32m    605\u001b[0m \u001b[38;5;250m    \u001b[39m\u001b[38;5;124;03m\"\"\"Run step.\"\"\"\u001b[39;00m\n\u001b[0;32m--> 606\u001b[0m     \u001b[38;5;28;01mreturn\u001b[39;00m \u001b[38;5;28;43mself\u001b[39;49m\u001b[38;5;241;43m.\u001b[39;49m\u001b[43m_run_step\u001b[49m\u001b[43m(\u001b[49m\u001b[43mstep\u001b[49m\u001b[43m,\u001b[49m\u001b[43m \u001b[49m\u001b[43mtask\u001b[49m\u001b[43m)\u001b[49m\n",
      "File \u001b[0;32m/Library/Frameworks/Python.framework/Versions/3.12/lib/python3.12/site-packages/llama_index/core/agent/react/step.py:422\u001b[0m, in \u001b[0;36mReActAgentWorker._run_step\u001b[0;34m(self, step, task)\u001b[0m\n\u001b[1;32m    420\u001b[0m chat_response \u001b[38;5;241m=\u001b[39m \u001b[38;5;28mself\u001b[39m\u001b[38;5;241m.\u001b[39m_llm\u001b[38;5;241m.\u001b[39mchat(input_chat)\n\u001b[1;32m    421\u001b[0m \u001b[38;5;66;03m# given react prompt outputs, call tools or return response\u001b[39;00m\n\u001b[0;32m--> 422\u001b[0m reasoning_steps, is_done \u001b[38;5;241m=\u001b[39m \u001b[38;5;28;43mself\u001b[39;49m\u001b[38;5;241;43m.\u001b[39;49m\u001b[43m_process_actions\u001b[49m\u001b[43m(\u001b[49m\n\u001b[1;32m    423\u001b[0m \u001b[43m    \u001b[49m\u001b[43mtask\u001b[49m\u001b[43m,\u001b[49m\u001b[43m \u001b[49m\u001b[43mtools\u001b[49m\u001b[43m,\u001b[49m\u001b[43m \u001b[49m\u001b[43moutput\u001b[49m\u001b[38;5;241;43m=\u001b[39;49m\u001b[43mchat_response\u001b[49m\n\u001b[1;32m    424\u001b[0m \u001b[43m\u001b[49m\u001b[43m)\u001b[49m\n\u001b[1;32m    425\u001b[0m task\u001b[38;5;241m.\u001b[39mextra_state[\u001b[38;5;124m\"\u001b[39m\u001b[38;5;124mcurrent_reasoning\u001b[39m\u001b[38;5;124m\"\u001b[39m]\u001b[38;5;241m.\u001b[39mextend(reasoning_steps)\n\u001b[1;32m    426\u001b[0m agent_response \u001b[38;5;241m=\u001b[39m \u001b[38;5;28mself\u001b[39m\u001b[38;5;241m.\u001b[39m_get_response(\n\u001b[1;32m    427\u001b[0m     task\u001b[38;5;241m.\u001b[39mextra_state[\u001b[38;5;124m\"\u001b[39m\u001b[38;5;124mcurrent_reasoning\u001b[39m\u001b[38;5;124m\"\u001b[39m], task\u001b[38;5;241m.\u001b[39mextra_state[\u001b[38;5;124m\"\u001b[39m\u001b[38;5;124msources\u001b[39m\u001b[38;5;124m\"\u001b[39m]\n\u001b[1;32m    428\u001b[0m )\n",
      "File \u001b[0;32m/Library/Frameworks/Python.framework/Versions/3.12/lib/python3.12/site-packages/llama_index/core/agent/react/step.py:242\u001b[0m, in \u001b[0;36mReActAgentWorker._process_actions\u001b[0;34m(self, task, tools, output, is_streaming)\u001b[0m\n\u001b[1;32m    234\u001b[0m tool \u001b[38;5;241m=\u001b[39m tools_dict[reasoning_step\u001b[38;5;241m.\u001b[39maction]\n\u001b[1;32m    235\u001b[0m \u001b[38;5;28;01mwith\u001b[39;00m \u001b[38;5;28mself\u001b[39m\u001b[38;5;241m.\u001b[39mcallback_manager\u001b[38;5;241m.\u001b[39mevent(\n\u001b[1;32m    236\u001b[0m     CBEventType\u001b[38;5;241m.\u001b[39mFUNCTION_CALL,\n\u001b[1;32m    237\u001b[0m     payload\u001b[38;5;241m=\u001b[39m{\n\u001b[0;32m   (...)\u001b[0m\n\u001b[1;32m    240\u001b[0m     },\n\u001b[1;32m    241\u001b[0m ) \u001b[38;5;28;01mas\u001b[39;00m event:\n\u001b[0;32m--> 242\u001b[0m     tool_output \u001b[38;5;241m=\u001b[39m \u001b[43mtool\u001b[49m\u001b[38;5;241;43m.\u001b[39;49m\u001b[43mcall\u001b[49m\u001b[43m(\u001b[49m\u001b[38;5;241;43m*\u001b[39;49m\u001b[38;5;241;43m*\u001b[39;49m\u001b[43mreasoning_step\u001b[49m\u001b[38;5;241;43m.\u001b[39;49m\u001b[43maction_input\u001b[49m\u001b[43m)\u001b[49m\n\u001b[1;32m    243\u001b[0m     event\u001b[38;5;241m.\u001b[39mon_end(payload\u001b[38;5;241m=\u001b[39m{EventPayload\u001b[38;5;241m.\u001b[39mFUNCTION_OUTPUT: \u001b[38;5;28mstr\u001b[39m(tool_output)})\n\u001b[1;32m    245\u001b[0m task\u001b[38;5;241m.\u001b[39mextra_state[\u001b[38;5;124m\"\u001b[39m\u001b[38;5;124msources\u001b[39m\u001b[38;5;124m\"\u001b[39m]\u001b[38;5;241m.\u001b[39mappend(tool_output)\n",
      "File \u001b[0;32m/Library/Frameworks/Python.framework/Versions/3.12/lib/python3.12/site-packages/llama_index/core/tools/function_tool.py:84\u001b[0m, in \u001b[0;36mFunctionTool.call\u001b[0;34m(self, *args, **kwargs)\u001b[0m\n\u001b[1;32m     82\u001b[0m \u001b[38;5;28;01mdef\u001b[39;00m \u001b[38;5;21mcall\u001b[39m(\u001b[38;5;28mself\u001b[39m, \u001b[38;5;241m*\u001b[39margs: Any, \u001b[38;5;241m*\u001b[39m\u001b[38;5;241m*\u001b[39mkwargs: Any) \u001b[38;5;241m-\u001b[39m\u001b[38;5;241m>\u001b[39m ToolOutput:\n\u001b[1;32m     83\u001b[0m \u001b[38;5;250m    \u001b[39m\u001b[38;5;124;03m\"\"\"Call.\"\"\"\u001b[39;00m\n\u001b[0;32m---> 84\u001b[0m     tool_output \u001b[38;5;241m=\u001b[39m \u001b[38;5;28;43mself\u001b[39;49m\u001b[38;5;241;43m.\u001b[39;49m\u001b[43m_fn\u001b[49m\u001b[43m(\u001b[49m\u001b[38;5;241;43m*\u001b[39;49m\u001b[43margs\u001b[49m\u001b[43m,\u001b[49m\u001b[43m \u001b[49m\u001b[38;5;241;43m*\u001b[39;49m\u001b[38;5;241;43m*\u001b[39;49m\u001b[43mkwargs\u001b[49m\u001b[43m)\u001b[49m\n\u001b[1;32m     85\u001b[0m     \u001b[38;5;28;01mreturn\u001b[39;00m ToolOutput(\n\u001b[1;32m     86\u001b[0m         content\u001b[38;5;241m=\u001b[39m\u001b[38;5;28mstr\u001b[39m(tool_output),\n\u001b[1;32m     87\u001b[0m         tool_name\u001b[38;5;241m=\u001b[39m\u001b[38;5;28mself\u001b[39m\u001b[38;5;241m.\u001b[39mmetadata\u001b[38;5;241m.\u001b[39mname,\n\u001b[1;32m     88\u001b[0m         raw_input\u001b[38;5;241m=\u001b[39m{\u001b[38;5;124m\"\u001b[39m\u001b[38;5;124margs\u001b[39m\u001b[38;5;124m\"\u001b[39m: args, \u001b[38;5;124m\"\u001b[39m\u001b[38;5;124mkwargs\u001b[39m\u001b[38;5;124m\"\u001b[39m: kwargs},\n\u001b[1;32m     89\u001b[0m         raw_output\u001b[38;5;241m=\u001b[39mtool_output,\n\u001b[1;32m     90\u001b[0m     )\n",
      "Cell \u001b[0;32mIn[139], line 6\u001b[0m, in \u001b[0;36mset_related_articles\u001b[0;34m(related_articles)\u001b[0m\n\u001b[1;32m      4\u001b[0m openai \u001b[38;5;241m=\u001b[39m OpenAI()\n\u001b[1;32m      5\u001b[0m \u001b[38;5;66;03m# generate a title from the commit body using open ai\u001b[39;00m\n\u001b[0;32m----> 6\u001b[0m response \u001b[38;5;241m=\u001b[39m openai\u001b[38;5;241m.\u001b[39mset_completion_to_prompt(\u001b[38;5;124;43m\"\u001b[39;49m\u001b[38;5;124;43mGenerate a likely description of the article based on the url, followed by the URL, for the following URLs.  \u001b[39;49m\u001b[38;5;124;43m\"\u001b[39;49m\u001b[43m \u001b[49m\u001b[38;5;241;43m+\u001b[39;49m\u001b[43m \u001b[49m\u001b[43mrelated_articles\u001b[49m)\n\u001b[1;32m      7\u001b[0m \u001b[38;5;28;01mreturn\u001b[39;00m response\n",
      "\u001b[0;31mTypeError\u001b[0m: can only concatenate str (not \"AttributedDict\") to str"
     ]
    }
   ],
   "source": [
    "def set_related_articles(related_articles) -> str:\n",
    "    \"\"\"If there are related articles provided, adds a link to the article and describe the articles. \"\"\"\n",
    "    #submit commit_body to OpenAI's GPT-3.5 API\n",
    "    openai = OpenAI()\n",
    "    # generate a title from the commit body using open ai\n",
    "    response = openai.set_completion_to_prompt(\"Generate a likely description of the article based on the url, followed by the URL, for the following URLs.  \" + related_articles)\n",
    "    return response\n",
    "\n",
    "related_articles = \"https://saturncloud.io/blog/how-to-import-functions-from-another-jupyter-notebook/\"\n",
    "\n",
    "related_articles_tool = FunctionTool.from_defaults(fn=set_related_articles)\n",
    "related_articles_agent = ReActAgent.from_tools([related_articles_tool], llm=llm, verbose=True)\n",
    "response_related_articles = related_articles_agent.chat(str(related_articles))\n",
    "\n",
    "overall_agent = ReActAgent.from_tools([title_tool, summary_tool, body_tool], llm=llm, verbose=True)\n",
    "overall_summary = overall_agent.chat(str(agent1_response))"
   ]
  }
 ],
 "metadata": {
  "kernelspec": {
   "display_name": "hw_milvus",
   "language": "python",
   "name": "python3"
  },
  "language_info": {
   "codemirror_mode": {
    "name": "ipython",
    "version": 3
   },
   "file_extension": ".py",
   "mimetype": "text/x-python",
   "name": "python",
   "nbconvert_exporter": "python",
   "pygments_lexer": "ipython3",
   "version": "3.12.2"
  }
 },
 "nbformat": 4,
 "nbformat_minor": 2
}
